{
 "cells": [
  {
   "cell_type": "markdown",
   "metadata": {},
   "source": [
    "# STAT 705 Assignment 5"
   ]
  },
  {
   "cell_type": "code",
   "execution_count": 11,
   "metadata": {},
   "outputs": [],
   "source": [
    "#### STAT 405/705 FALL 2018 ASSIGNMENT 5 (Monte Carlo)\n",
    "#### NAME: Jerrison Li Liu\n",
    "\n",
    "#### If in a question I refer to a function that we have not seen in class, \n",
    "#### then use the help facility to find out about it.\n",
    "#### Insert your answers under each question.\n",
    "#### Submit your solutions to Canvas as a plain text file.\n",
    "\n",
    "\n",
    "# The town of Longsvale is a target of opportunity for a driverless car, ride\n",
    "# hailing service.\n",
    "# It is an interesting town because it is laid out in a perfect city grid and \n",
    "# has exactly \n",
    "# 18 blocks in both the north and east directions. Roads going north-south are \n",
    "# called Avenues,\n",
    "# and roads east-west are called streets.\n",
    "# The driverless car will only pick up and drop people off at street \n",
    "# intersections.\n",
    "# This means that every car and every passenger's location can be represented \n",
    "# as a pair (i,j),\n",
    "# i for the street they are on, and j for the avenue, where both i and j take \n",
    "# integer values between 1 and 18.\n",
    "# The city planners used the convention that the intersection at the south west \n",
    "# corner of the grid is (1,1)\n",
    "# and the intersection in the north east corner is (18,18).\n",
    "\n",
    "# The city also operates its time on a very discrete level, only working in \n",
    "# minute increments.\n",
    "# A car can move one block in one minute."
   ]
  },
  {
   "cell_type": "markdown",
   "metadata": {},
   "source": [
    "## Question 1"
   ]
  },
  {
   "cell_type": "code",
   "execution_count": 3,
   "metadata": {},
   "outputs": [],
   "source": [
    "#Q1. (4pts.) Write a function to return the distance in city blocks between a \n",
    "# car and a waiting passenger.\n",
    "# The function should take two inputs, the car's location and the waiting \n",
    "# passenger's location.\n",
    "# Paste your function below and print its output when called on the pair \n",
    "# car.location  = (3,7) and pass.location = (6,3)."
   ]
  },
  {
   "cell_type": "markdown",
   "metadata": {},
   "source": [
    "## Question 2"
   ]
  },
  {
   "cell_type": "code",
   "execution_count": 4,
   "metadata": {},
   "outputs": [],
   "source": [
    "#Q2. (8 pts.) Write a function that creates a new car. A \"new car\" is just a \n",
    "# list. This list has named elements as follows:\n",
    "# CID: a unique identifier for the car.\n",
    "# Status: a text string that is either \"Waiting\", \"En route to passenger\" or \n",
    "# \"En route to destination\".\n",
    "# Location: the coordinates of the car's current location.\n",
    "# Destination: the coordinates of where the car is headed.\n",
    "# PID: the id of the passenger that the car is either headed toward, or is \n",
    "# currently carrying. \n",
    "# Your function will need to take 5 arguments, one for each component of the \n",
    "# list. \n",
    "# Even though the arguments will typically take on their default values, by \n",
    "# incorporating these arguments\n",
    "# you give the user the opportunity of overwriting the default values.\n",
    "\n",
    "# By default, have Status set to \"Waiting\", Location set to a random \n",
    "# intersection and set Destination = NULL\n",
    "# and PID = NULL. Think of NULL as a placeholder for something that is \n",
    "# currently empty/not set.\n",
    "# Don't put quotes around the NULL. Like NA, it is special value in the R \n",
    "# language.\n",
    "# A lazy way of creating a very likely unique CID would be \n",
    "# paste(sample(c(LETTERS,0:9),10),sep=\"\",collapse=\"\" ).\n",
    "\n",
    "# Paste your function below and show what happens when you call it with all \n",
    "# default arguments, that is when you\n",
    "# run the command \"newcar()\".\n",
    "\n",
    "# By way of illustration, here's what my version of the function, called \n",
    "# \"newcar\", outputs when called with all default values:\n",
    "# > newcar()\n",
    "# $CID\n",
    "# [1] \"7IJMO9XVLK\"\n",
    "# \n",
    "# $Status\n",
    "# [1] \"Waiting\"\n",
    "# \n",
    "# $Location\n",
    "# [1]  2 13\n",
    "# \n",
    "# $Destination\n",
    "# NULL\n",
    "# \n",
    "# $PID\n",
    "# NULL\n"
   ]
  },
  {
   "cell_type": "markdown",
   "metadata": {},
   "source": [
    "## Question 3"
   ]
  },
  {
   "cell_type": "code",
   "execution_count": 5,
   "metadata": {},
   "outputs": [],
   "source": [
    "#Q3. (7 pts.) Write a function that creates a new passenger and call this function \"newpass\". A passenger is again a list, but with these named elements:\n",
    "# PID: a unique identifier for the passenger.\n",
    "# WaitTime: an integer that records how long the passenger has been waiting in minutes.\n",
    "# Location: the coordinates of the passenger's current location.\n",
    "# Destination: the coordinates of where the passenger is headed.\n",
    "\n",
    "# By default, have WaitTime set to 0, Location set to a random intersection and Destination set to a random intersection.\n",
    "# You can create the PID with the same paste(sample(c(LETTERS,0:9),10),sep=\"\",collapse=\"\" ) code.\n",
    "\n",
    "# Paste your function below and show what happens when you call it with all default arguments, that is when you\n",
    "# run the command \"newpass()\".\n"
   ]
  },
  {
   "cell_type": "markdown",
   "metadata": {},
   "source": [
    "## Question 4"
   ]
  },
  {
   "cell_type": "code",
   "execution_count": 6,
   "metadata": {},
   "outputs": [],
   "source": [
    "#Q4 (5 pts.) \n",
    "###### Set the random seed to your birthday number and include this in your answer.\n",
    "# Create two lists, one of 12 passengers and the other of 12 cars.\n",
    "# Show the code you use to create the passenger and car lists but you don't have to print the lists out. \n"
   ]
  },
  {
   "cell_type": "markdown",
   "metadata": {},
   "source": [
    "## Question 5"
   ]
  },
  {
   "cell_type": "code",
   "execution_count": 7,
   "metadata": {},
   "outputs": [],
   "source": [
    "#Q5 (5 pts.) Create a distance matrix that contains how far each car is initially from each passenger \n",
    "# (use your Q1 function to do this).\n",
    "# Print out and paste the distance matrix below. "
   ]
  },
  {
   "cell_type": "markdown",
   "metadata": {},
   "source": [
    "## Question 6"
   ]
  },
  {
   "cell_type": "code",
   "execution_count": 8,
   "metadata": {},
   "outputs": [],
   "source": [
    "#Q6 (4 pts.) Focusing now just on passenger 1, identify which car is closest to them and how long the\n",
    "# passenger needs to wait in order to be picked up by this closest car.\n",
    "# Show the code that you used to do this and paste both the car ID and the passenger waiting time below.\n",
    "\n",
    "##################################################################################\n",
    "# More generally you need to assign cars to all passengers. In Operations Research this is called the \"Assignment Problem\".\n",
    "# There is a package for R called \"lpSolve\" which solves the assignment problem.\n",
    "# Install the lpSolve package.\n",
    "# If your distance matrix is called dist.mat, you assign cars to passengers in an optimal fashion with the command\n",
    "# fm <- lp.assign(dist.mat)\n",
    "# Now fm$solution gives you a matrix that shows which car was assigned to each passenger."
   ]
  },
  {
   "cell_type": "markdown",
   "metadata": {},
   "source": [
    "## Question 7"
   ]
  },
  {
   "cell_type": "code",
   "execution_count": 9,
   "metadata": {},
   "outputs": [],
   "source": [
    "#Q7 (10 pts.) Run a Monte Carlo simulation with 10000 replications that estimates  \n",
    "# the average waiting time that passengers experience under this optimal allocation.\n",
    "# It's useful to realize that waiting time will just be equal to the initial distance \n",
    "# between the car and the waiting passenger, because of the assumption that a car can drive one block in one minute.\n",
    "# For each iteration generate a new set of 12 passengers and a new set of 12 cars.\n",
    "# Show your simulation code together with the average waiting time."
   ]
  },
  {
   "cell_type": "markdown",
   "metadata": {},
   "source": [
    "## Question 8"
   ]
  },
  {
   "cell_type": "code",
   "execution_count": 10,
   "metadata": {},
   "outputs": [],
   "source": [
    "#Q8 (7 pts.) Redo the Monte Carlo simulation in Q7 to estimate the probability that at least one \n",
    "# of the 12 passengers arrives at his or her destination before the last of the 12 \n",
    "# passengers is first picked up. Occasionally  you will create a passenger whose origin and destination are the same.\n",
    "# Treat this as a passenger error with the app used for ordering the car -- that is, they will still wait to be picked up\n",
    "# and their journey time will be zero."
   ]
  }
 ],
 "metadata": {
  "kernelspec": {
   "display_name": "R",
   "language": "R",
   "name": "ir"
  },
  "language_info": {
   "codemirror_mode": "r",
   "file_extension": ".r",
   "mimetype": "text/x-r-source",
   "name": "R",
   "pygments_lexer": "r",
   "version": "3.5.1"
  },
  "toc": {
   "nav_menu": {},
   "number_sections": true,
   "sideBar": true,
   "skip_h1_title": false,
   "toc_cell": false,
   "toc_position": {},
   "toc_section_display": "block",
   "toc_window_display": false
  }
 },
 "nbformat": 4,
 "nbformat_minor": 2
}
