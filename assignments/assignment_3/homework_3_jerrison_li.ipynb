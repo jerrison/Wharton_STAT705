{
 "cells": [
  {
   "cell_type": "code",
   "execution_count": 38,
   "metadata": {},
   "outputs": [],
   "source": [
    "#### STAT 705 FALL 2018 ASSIGNMENT 3 (Functions)\n",
    "#### NAME: Jerrison Li\n",
    "\n",
    "#### If in a question I refer to a function that we have not seen in class, \n",
    "#### then use the help facility to find out about it.\n",
    "#### Insert your answers under each question.\n",
    "#### Submit your solutions to Canvas as a plain text file.\n",
    "\n",
    "#### OBJECTIVE: in this homework you will build a set of functions that can be used\n",
    "#### to automatically identify outlier prone columns in a financial dataset. \n",
    "\n",
    "#### In this assignment you do NOT have to worry about missing values (NAs).\n",
    "#### There is no need to accommodate NAs in your functions.\n",
    "\n",
    "#### The data frame, stocks.df, in the .RData file called \"hw3_2018.Rdata\" contains the date (first column) and then the \n",
    "#### daily prices for 11 different stocks.\n",
    "\n",
    "#### The first task is to create a new data frame that has just the daily returns for these stocks.\n",
    "#### Recall that the daily return is defined as (price today - price yesterday)/price yesterday."
   ]
  },
  {
   "cell_type": "markdown",
   "metadata": {},
   "source": [
    "## Question 1 (20 pts.)"
   ]
  },
  {
   "cell_type": "code",
   "execution_count": 39,
   "metadata": {},
   "outputs": [],
   "source": [
    "#### Q1. (20pts.)"
   ]
  },
  {
   "cell_type": "markdown",
   "metadata": {},
   "source": [
    "### Part 1, A"
   ]
  },
  {
   "cell_type": "code",
   "execution_count": 40,
   "metadata": {},
   "outputs": [
    {
     "data": {
      "text/html": [
       "<pre class=language-r><code>function (num_vector) \n",
       "{\n",
       "<span style=white-space:pre-wrap>    return(diff(x = num_vector, lag = 1)/head(x = num_vector, </span>\n",
       "<span style=white-space:pre-wrap>        n = -1))</span>\n",
       "}</code></pre>"
      ],
      "text/latex": [
       "\\begin{minted}{r}\n",
       "function (num\\_vector) \n",
       "\\{\n",
       "    return(diff(x = num\\_vector, lag = 1)/head(x = num\\_vector, \n",
       "        n = -1))\n",
       "\\}\n",
       "\\end{minted}"
      ],
      "text/markdown": [
       "```r\n",
       "function (num_vector) \n",
       "{\n",
       "    return(diff(x = num_vector, lag = 1)/head(x = num_vector, \n",
       "        n = -1))\n",
       "}\n",
       "```"
      ],
      "text/plain": [
       "function(num_vector) {\n",
       "    return(diff(x = num_vector, lag = 1) / head(x = num_vector, n = -1))\n",
       "}"
      ]
     },
     "metadata": {},
     "output_type": "display_data"
    }
   ],
   "source": [
    "#a. Write a function that takes a numeric vector and returns a vector of \"returns\".\n",
    "# The returns will have a length of one less than the input vector. You do not \n",
    "# need to pad the vector with a leading NA.\n",
    "# At this point you do not have to check the argument passed to the function.\n",
    "# Call the function \"daily.ret\" and paste the code that defines the function below.\n",
    "# Code:\n",
    "# daily.ret <- function(num_vector) {\n",
    "#     return(diff(x = num_vector, lag = 1) / head(x = num_vector, n = -1))\n",
    "\n",
    "# Call:\n",
    "# daily.ret\n",
    "\n",
    "# Output:\n",
    "# function (num_vector) \n",
    "# {\n",
    "#     return(diff(x = num_vector, lag = 1)/head(x = num_vector, \n",
    "#         n = -1))\n",
    "# }\n",
    "\n",
    "daily.ret <- function(num_vector) {\n",
    "    return(diff(x = num_vector, lag = 1) / head(x = num_vector, n = -1))\n",
    "}\n",
    "daily.ret"
   ]
  },
  {
   "cell_type": "markdown",
   "metadata": {},
   "source": [
    "### Part 1, B"
   ]
  },
  {
   "cell_type": "code",
   "execution_count": 41,
   "metadata": {},
   "outputs": [
    {
     "data": {
      "text/html": [
       "<ol class=list-inline>\n",
       "\t<li>1</li>\n",
       "\t<li>0.5</li>\n",
       "\t<li>0.333333333333333</li>\n",
       "\t<li>0.25</li>\n",
       "\t<li>0.2</li>\n",
       "\t<li>0.166666666666667</li>\n",
       "\t<li>0.142857142857143</li>\n",
       "\t<li>0.125</li>\n",
       "\t<li>0.111111111111111</li>\n",
       "</ol>\n"
      ],
      "text/latex": [
       "\\begin{enumerate*}\n",
       "\\item 1\n",
       "\\item 0.5\n",
       "\\item 0.333333333333333\n",
       "\\item 0.25\n",
       "\\item 0.2\n",
       "\\item 0.166666666666667\n",
       "\\item 0.142857142857143\n",
       "\\item 0.125\n",
       "\\item 0.111111111111111\n",
       "\\end{enumerate*}\n"
      ],
      "text/markdown": [
       "1. 1\n",
       "2. 0.5\n",
       "3. 0.333333333333333\n",
       "4. 0.25\n",
       "5. 0.2\n",
       "6. 0.166666666666667\n",
       "7. 0.142857142857143\n",
       "8. 0.125\n",
       "9. 0.111111111111111\n",
       "\n",
       "\n"
      ],
      "text/plain": [
       "[1] 1.0000000 0.5000000 0.3333333 0.2500000 0.2000000 0.1666667 0.1428571\n",
       "[8] 0.1250000 0.1111111"
      ]
     },
     "metadata": {},
     "output_type": "display_data"
    }
   ],
   "source": [
    "#b. Use your daily.ret function on the vector seq(10) and paste the output below.\n",
    "\n",
    "# Call: daily.ret(num_vector = seq(10))\n",
    "\n",
    "# Output: 1 0.5 0.333333333333333 0.25 0.2 0.166666666666667 0.142857142857143 0.125 0.111111111111111\n",
    "\n",
    "daily.ret(num_vector = seq(10))"
   ]
  },
  {
   "cell_type": "markdown",
   "metadata": {},
   "source": [
    "### Part 1, C"
   ]
  },
  {
   "cell_type": "code",
   "execution_count": 42,
   "metadata": {},
   "outputs": [
    {
     "data": {
      "text/html": [
       "<pre class=language-r><code>function (num_vector) \n",
       "{\n",
       "<span style=white-space:pre-wrap>    if (!is.numeric(num_vector)) {</span>\n",
       "<span style=white-space:pre-wrap>        stop(\"JL: input vector is not numeric\")</span>\n",
       "<span style=white-space:pre-wrap>    }</span>\n",
       "<span style=white-space:pre-wrap>    return(diff(x = num_vector, lag = 1)/head(x = num_vector, </span>\n",
       "<span style=white-space:pre-wrap>        n = -1))</span>\n",
       "}</code></pre>"
      ],
      "text/latex": [
       "\\begin{minted}{r}\n",
       "function (num\\_vector) \n",
       "\\{\n",
       "    if (!is.numeric(num\\_vector)) \\{\n",
       "        stop(\"JL: input vector is not numeric\")\n",
       "    \\}\n",
       "    return(diff(x = num\\_vector, lag = 1)/head(x = num\\_vector, \n",
       "        n = -1))\n",
       "\\}\n",
       "\\end{minted}"
      ],
      "text/markdown": [
       "```r\n",
       "function (num_vector) \n",
       "{\n",
       "    if (!is.numeric(num_vector)) {\n",
       "        stop(\"JL: input vector is not numeric\")\n",
       "    }\n",
       "    return(diff(x = num_vector, lag = 1)/head(x = num_vector, \n",
       "        n = -1))\n",
       "}\n",
       "```"
      ],
      "text/plain": [
       "function(num_vector) {\n",
       "    if(!is.numeric(num_vector)) { # check if num_vector is numeric\n",
       "        stop(\"JL: input vector is not numeric\")\n",
       "    }\n",
       "    return(diff(x = num_vector, lag = 1) / head(x = num_vector, n = -1))\n",
       "}"
      ]
     },
     "metadata": {},
     "output_type": "display_data"
    }
   ],
   "source": [
    "#c. Refine your  function so that if it is called with anything but a numeric argument\n",
    "# it stops and produces an informative error message. \n",
    "# Use the \"if\" and \"is.numeric\" functions to achieve this goal. Paste the refined function below.\n",
    "\n",
    "# Code: \n",
    "# daily.ret <- function(num_vector) {\n",
    "#     if(!is.numeric(num_vector)) { # check if num_vector is numeric\n",
    "#         stop(\"JL: input vector is not numeric\")\n",
    "#     }\n",
    "#     return(diff(x = num_vector, lag = 1) / head(x = num_vector, n = -1))\n",
    "# }\n",
    "\n",
    "# Call:\n",
    "# daily.ret\n",
    "\n",
    "# Output:\n",
    "# function (num_vector) \n",
    "# {\n",
    "#     if (!is.numeric(num_vector)) {\n",
    "#         stop(\"JL: input vector is not numeric\")\n",
    "#     }\n",
    "#     return(diff(x = num_vector, lag = 1)/head(x = num_vector, \n",
    "#         n = -1))\n",
    "# }\n",
    "\n",
    "daily.ret <- function(num_vector) {\n",
    "    if(!is.numeric(num_vector)) { # check if num_vector is numeric\n",
    "        stop(\"JL: input vector is not numeric\")\n",
    "    }\n",
    "    return(diff(x = num_vector, lag = 1) / head(x = num_vector, n = -1))\n",
    "}\n",
    "\n",
    "daily.ret"
   ]
  },
  {
   "cell_type": "markdown",
   "metadata": {},
   "source": [
    "### Part 1, D"
   ]
  },
  {
   "cell_type": "code",
   "execution_count": 43,
   "metadata": {},
   "outputs": [
    {
     "ename": "ERROR",
     "evalue": "Error in daily.ret(c(1, 2, \"hello\", \"world\")): JL: input vector is not numeric\n",
     "output_type": "error",
     "traceback": [
      "Error in daily.ret(c(1, 2, \"hello\", \"world\")): JL: input vector is not numeric\nTraceback:\n",
      "1. daily.ret(c(1, 2, \"hello\", \"world\"))",
      "2. stop(\"JL: input vector is not numeric\")   # at line 28 of file <text>"
     ]
    }
   ],
   "source": [
    "#d. Call the daily.ret function on the vector c(1,2,\"hello\", \"world\") and paste \n",
    "# the output below. \n",
    "\n",
    "# Call: \n",
    "# daily.ret(c(1, 2, \"hello\", \"world\"))\n",
    "\n",
    "# Output: \n",
    "# Error in daily.ret(c(1, 2, \"hello\", \"world\")): JL: input vector is not numeric\n",
    "# Traceback:\n",
    "\n",
    "# 1. daily.ret(c(1, 2, \"hello\", \"world\"))\n",
    "# 2. stop(\"JL: input vector is not numeric\")   # at line 13 of file <text>\n",
    "daily.ret(c(1, 2, \"hello\", \"world\"))"
   ]
  },
  {
   "cell_type": "markdown",
   "metadata": {},
   "source": [
    "### Part 1, E"
   ]
  },
  {
   "cell_type": "code",
   "execution_count": 44,
   "metadata": {},
   "outputs": [],
   "source": [
    "#e. Read in the .RData file called \"hw3_2018.Rdata\". It contains a data frame \n",
    "# called \"stock.df\".\n",
    "# Using the \"sapply\" function (it will return a matrix here rather than a list), \n",
    "# sapply your daily.ret function to all the columns of the stock.df data frame\n",
    "# (excluding the date column).\n",
    "# The output will be a matrix, but you can store it as a data frame by applying\n",
    "# the \"as.data.frame\" function to it.\n",
    "# Store the daily returns in a new data frame called \"returns.df\"\n",
    "\n",
    "# Call:\n",
    "# load(\"/Users/jerrison/Wharton_MBA/Wharton_STAT705/data/hw3_2018.rdata\")\n",
    "# returns.df <- as.data.frame(x = sapply(X = stock.df[, 2:length(stock.df)],\n",
    "#                                        FUN = daily.ret))\n",
    "\n",
    "load(\"/Users/jerrison/Wharton_MBA/Wharton_STAT_705/data/hw3_2018.rdata\")\n",
    "returns.df <- as.data.frame(x = sapply(X = stock.df[, 2:length(stock.df)],\n",
    "                                       FUN = daily.ret))"
   ]
  },
  {
   "cell_type": "markdown",
   "metadata": {},
   "source": [
    "### Part 1, F"
   ]
  },
  {
   "cell_type": "code",
   "execution_count": 45,
   "metadata": {},
   "outputs": [
    {
     "name": "stdout",
     "output_type": "stream",
     "text": [
      " [1] \"DATE\" \"AMZN\" \"BP\"   \"CALA\" \"CVX\"  \"GBTC\" \"GERN\" \"GPRO\" \"JPM\"  \"MNKD\"\n",
      "[11] \"TSLA\" \"XOM\" \n"
     ]
    }
   ],
   "source": [
    "#f Add a column named \"DATE\" at the *start* of the returns.df data frame that \n",
    "# has the date of the daily returns. \n",
    "#  Print the column names of this data frame below. \n",
    "\n",
    "# Call: returns.df <- cbind(DATE = stock.df$Date[2:length(stock.df$Date)],\n",
    "#                     returns.df)\n",
    "# print(colnames(returns.df))\n",
    "\n",
    "# Output:  [1] \"DATE\" \"AMZN\" \"BP\"   \"CALA\" \"CVX\"  \"GBTC\" \"GERN\" \"GPRO\" \"JPM\"  \"MNKD\"\n",
    "# [11] \"TSLA\" \"XOM\"\n",
    "\n",
    "returns.df <- cbind(DATE = stock.df$Date[2:length(stock.df$Date)],\n",
    "                    returns.df)\n",
    "print(colnames(returns.df))"
   ]
  },
  {
   "cell_type": "markdown",
   "metadata": {},
   "source": [
    "### Part 1, G"
   ]
  },
  {
   "cell_type": "code",
   "execution_count": 46,
   "metadata": {},
   "outputs": [
    {
     "name": "stdout",
     "output_type": "stream",
     "text": [
      "         AMZN            BP          CALA           CVX          GBTC \n",
      " 0.0028983734  0.0009700299 -0.0035623699  0.0003260614  0.0033998966 \n",
      "         GERN          GPRO           JPM          MNKD          TSLA \n",
      " 0.0048968531 -0.0019336444  0.0010160846  0.0020154994 -0.0005588027 \n",
      "          XOM \n",
      " 0.0003619135 \n"
     ]
    }
   ],
   "source": [
    "#g Using either the apply (or sapply) and mean function, write code to find the\n",
    "# mean daily return for each stock and \n",
    "# print these means (you need to show your code, and cut and paste the results \n",
    "# of the print statement).  \n",
    "\n",
    "# Call: print(sapply(X = returns.df[2:length(returns.df)], FUN = mean))\n",
    "\n",
    "# Output:\n",
    "#          AMZN            BP          CALA           CVX          GBTC \n",
    "#  0.0028983734  0.0009700299 -0.0035623699  0.0003260614  0.0033998966 \n",
    "#          GERN          GPRO           JPM          MNKD          TSLA \n",
    "#  0.0048968531 -0.0019336444  0.0010160846  0.0020154994 -0.0005588027 \n",
    "#           XOM \n",
    "#  0.0003619135 \n",
    "\n",
    "print(sapply(X = returns.df[2:length(returns.df)], FUN = mean))"
   ]
  },
  {
   "cell_type": "markdown",
   "metadata": {},
   "source": [
    "## Question 2 (15 points)"
   ]
  },
  {
   "cell_type": "code",
   "execution_count": 47,
   "metadata": {},
   "outputs": [],
   "source": [
    "#### Q2. (15pts.) Financial returns are well known to often be heavy tailed \n",
    "# (\"fat tailed\") compared to a normal distribution.\n",
    "#### One numerical measure of just how heavy tailed a distribution is, is\n",
    "# called the \"excess kurtosis\"."
   ]
  },
  {
   "cell_type": "markdown",
   "metadata": {},
   "source": [
    "### Question 2, A"
   ]
  },
  {
   "cell_type": "code",
   "execution_count": 48,
   "metadata": {},
   "outputs": [
    {
     "data": {
      "text/html": [
       "<pre class=language-r><code>function (y) \n",
       "{\n",
       "<span style=white-space:pre-wrap>    n &lt;- length(y)</span>\n",
       "<span style=white-space:pre-wrap>    sample_mean &lt;- mean(x = y)</span>\n",
       "<span style=white-space:pre-wrap>    sample_sd &lt;- sd(x = y)</span>\n",
       "<span style=white-space:pre-wrap>    summation &lt;- sum(sapply(X = y, FUN = function(y) {</span>\n",
       "<span style=white-space:pre-wrap>        ((y - sample_mean)/sample_sd)^4</span>\n",
       "<span style=white-space:pre-wrap>    }))</span>\n",
       "<span style=white-space:pre-wrap>    return(((n * (n + 1))/((n - 1) * (n - 2) * (n - 3))) * summation - </span>\n",
       "<span style=white-space:pre-wrap>        ((3 * (n - 1)^2)/((n - 2) * (n - 3))))</span>\n",
       "}</code></pre>"
      ],
      "text/latex": [
       "\\begin{minted}{r}\n",
       "function (y) \n",
       "\\{\n",
       "    n <- length(y)\n",
       "    sample\\_mean <- mean(x = y)\n",
       "    sample\\_sd <- sd(x = y)\n",
       "    summation <- sum(sapply(X = y, FUN = function(y) \\{\n",
       "        ((y - sample\\_mean)/sample\\_sd)\\textasciicircum{}4\n",
       "    \\}))\n",
       "    return(((n * (n + 1))/((n - 1) * (n - 2) * (n - 3))) * summation - \n",
       "        ((3 * (n - 1)\\textasciicircum{}2)/((n - 2) * (n - 3))))\n",
       "\\}\n",
       "\\end{minted}"
      ],
      "text/markdown": [
       "```r\n",
       "function (y) \n",
       "{\n",
       "    n <- length(y)\n",
       "    sample_mean <- mean(x = y)\n",
       "    sample_sd <- sd(x = y)\n",
       "    summation <- sum(sapply(X = y, FUN = function(y) {\n",
       "        ((y - sample_mean)/sample_sd)^4\n",
       "    }))\n",
       "    return(((n * (n + 1))/((n - 1) * (n - 2) * (n - 3))) * summation - \n",
       "        ((3 * (n - 1)^2)/((n - 2) * (n - 3))))\n",
       "}\n",
       "```"
      ],
      "text/plain": [
       "function(y) {\n",
       "    n <- length(y)\n",
       "    sample_mean <- mean(x = y)\n",
       "    sample_sd <- sd(x = y)\n",
       "    summation <- sum(sapply(X = y, FUN = function(y) {\n",
       "        ((y - sample_mean)/sample_sd)^4\n",
       "    }))\n",
       "    return( ((n * (n + 1)) / ((n - 1) * (n - 2) * (n - 3))) * summation -\n",
       "           ((3 * (n - 1)^2) / ((n - 2) * (n - 3))) )\n",
       "}"
      ]
     },
     "metadata": {},
     "output_type": "display_data"
    }
   ],
   "source": [
    "#a.  Write a function in R that takes a single numeric vector argument, call it \n",
    "# y, and finds the excess kurtosis of the vector.\n",
    "# The definition of excess kurtosis we will use is in the document \n",
    "# \"kurtosis.pdf\" in the Assignments folder on Canvas.\n",
    "# You R code should *not* use  a for loop in the calculation.\n",
    "# Call your function \"kurtosis\" and cut and paste your function here.\n",
    "# If you have your function defined correctly calling kurtosis(y = seq(10)) \n",
    "# should return -1.2.\n",
    "\n",
    "# Code:\n",
    "# kurtosis <- function(y) {\n",
    "#     n <- length(y)\n",
    "#     sample_mean <- mean(x = y)\n",
    "#     sample_sd <- sd(x = y)\n",
    "#     summation <- sum(sapply(X = y, FUN = function(y) {\n",
    "#         ((y - sample_mean)/sample_sd)^4\n",
    "#     }))\n",
    "#     return( ((n * (n + 1)) / ((n - 1) * (n - 2) * (n - 3))) * summation -\n",
    "#            ((3 * (n - 1)^2) / ((n - 2) * (n - 3))) )\n",
    "# }\n",
    "\n",
    "# Call: kurtosis\n",
    "\n",
    "# Output: \n",
    "# function (y) \n",
    "# {\n",
    "#     n <- length(y)\n",
    "#     sample_mean <- mean(x = y)\n",
    "#     sample_sd <- sd(x = y)\n",
    "#     summation <- sum(sapply(X = y, FUN = function(y) {\n",
    "#         ((y - sample_mean)/sample_sd)^4\n",
    "#     }))\n",
    "#     return(((n * (n + 1))/((n - 1) * (n - 2) * (n - 3))) * summation - \n",
    "#         ((3 * (n - 1)^2)/((n - 2) * (n - 3))))\n",
    "# }\n",
    "\n",
    "kurtosis <- function(y) {\n",
    "    n <- length(y)\n",
    "    sample_mean <- mean(x = y)\n",
    "    sample_sd <- sd(x = y)\n",
    "    summation <- sum(sapply(X = y, FUN = function(y) {\n",
    "        ((y - sample_mean)/sample_sd)^4\n",
    "    }))\n",
    "    return( ((n * (n + 1)) / ((n - 1) * (n - 2) * (n - 3))) * summation -\n",
    "           ((3 * (n - 1)^2) / ((n - 2) * (n - 3))) )\n",
    "}\n",
    "\n",
    "kurtosis"
   ]
  },
  {
   "cell_type": "markdown",
   "metadata": {},
   "source": [
    "### Question 2, B"
   ]
  },
  {
   "cell_type": "code",
   "execution_count": 49,
   "metadata": {},
   "outputs": [
    {
     "name": "stdout",
     "output_type": "stream",
     "text": [
      "[1] 1.17476\n"
     ]
    }
   ],
   "source": [
    "#b.  Use your kurtosis function with the following vector and print the result:\n",
    "\n",
    "# Call: \n",
    "# print(kurtosis(y = my.vec))\n",
    "\n",
    "# Output: [1] 1.17476\n",
    "\n",
    "my.vec <- c(2.10921657, -0.89218616, -0.23085193,  0.39297494,  1.09767915,\n",
    "            -0.13936090, -0.36960242, -0.02307942)\n",
    "print(kurtosis(y = my.vec))"
   ]
  },
  {
   "cell_type": "markdown",
   "metadata": {},
   "source": [
    "### Question 2, C"
   ]
  },
  {
   "cell_type": "code",
   "execution_count": 50,
   "metadata": {},
   "outputs": [
    {
     "ename": "ERROR",
     "evalue": "Error in kurtosis(y = letters): JL: input vector is not numeric\n",
     "output_type": "error",
     "traceback": [
      "Error in kurtosis(y = letters): JL: input vector is not numeric\nTraceback:\n",
      "1. kurtosis(y = letters)",
      "2. stop(\"JL: input vector is not numeric\")   # at line 34 of file <text>"
     ]
    }
   ],
   "source": [
    "#c.  Refine your kurtosis function, so that if it is called with anything other\n",
    "# than a numeric argument\n",
    "# it stops and produces an informative error message. Use the \"if\" and \n",
    "# \"is.numeric\" functions to achieve this goal.\n",
    "# Cut and paste your refined function here and show the results of calling it \n",
    "# with the argument kurtosis(y = letters).\n",
    "\n",
    "# Call:\n",
    "# kurtosis <- function(y) {\n",
    "#     if(!is.numeric(x = y)) {\n",
    "#         stop(\"JL: input vector is not numeric\")\n",
    "#     }\n",
    "#     n <- length(y)\n",
    "#     sample_mean <- mean(x = y)\n",
    "#     sample_sd <- sd(x = y)\n",
    "#     summation <- sum(sapply(X = y, FUN = function(y) {\n",
    "#         ((y - sample_mean)/sample_sd)^4\n",
    "#     }))\n",
    "#     return( ((n * (n + 1)) / ((n - 1) * (n - 2) * (n - 3))) * summation -\n",
    "#            ((3 * (n - 1)^2) / ((n - 2) * (n - 3))) )\n",
    "# }\n",
    "\n",
    "# kurtosis(y = letters)\n",
    "\n",
    "# Output:\n",
    "# Error in kurtosis(y = letters): JL: input vector is not numeric\n",
    "# Traceback:\n",
    "\n",
    "# 1. kurtosis(y = letters)\n",
    "# 2. stop(\"JL: input vector is not numeric\")   # at line 34 of file <text>\n",
    "\n",
    "kurtosis <- function(y) {\n",
    "    if(!is.numeric(x = y)) {\n",
    "        stop(\"JL: input vector is not numeric\")\n",
    "    }\n",
    "    n <- length(y)\n",
    "    sample_mean <- mean(x = y)\n",
    "    sample_sd <- sd(x = y)\n",
    "    summation <- sum(sapply(X = y, FUN = function(y) {\n",
    "        ((y - sample_mean)/sample_sd)^4\n",
    "    }))\n",
    "    return( ((n * (n + 1)) / ((n - 1) * (n - 2) * (n - 3))) * summation -\n",
    "           ((3 * (n - 1)^2) / ((n - 2) * (n - 3))) )\n",
    "}\n",
    "\n",
    "kurtosis(y = letters)"
   ]
  },
  {
   "cell_type": "markdown",
   "metadata": {},
   "source": [
    "### Question 2, D"
   ]
  },
  {
   "cell_type": "code",
   "execution_count": 51,
   "metadata": {},
   "outputs": [
    {
     "ename": "ERROR",
     "evalue": "Error in kurtosis(y = seq(3)): JL: input vector length is less than 4\n",
     "output_type": "error",
     "traceback": [
      "Error in kurtosis(y = seq(3)): JL: input vector length is less than 4\nTraceback:\n",
      "1. kurtosis(y = seq(3))",
      "2. stop(\"JL: input vector length is less than 4\")   # at line 43 of file <text>"
     ]
    }
   ],
   "source": [
    "#d.  Given the definition of excess kurtosis, it does not make sense to use \n",
    "# this function unless the length of the\n",
    "# input vector is strictly greater than three. Add another argument check to \n",
    "# your kurtosis function,\n",
    "# that stops and outputs an error message if the length of the input vector y, \n",
    "# is less than four.\n",
    "# Cut and paste your improved kurtosis function here and show the results of \n",
    "# calling it with the argument, kurtosis(y = seq(3)).\n",
    "\n",
    "# Code:\n",
    "# kurtosis <- function(y) {\n",
    "#     if(!is.numeric(x = y)) {\n",
    "#         stop(\"JL: input vector is not numeric\")\n",
    "#     }\n",
    "#     if(length(x = y) < 4) {\n",
    "#         stop(\"JL: input vector length is less than 4\")\n",
    "#     }\n",
    "#     n <- length(y)\n",
    "#     sample_mean <- mean(x = y)\n",
    "#     sample_sd <- sd(x = y)\n",
    "#     summation <- sum(sapply(X = y, FUN = function(y) {\n",
    "#         ((y - sample_mean)/sample_sd)^4\n",
    "#     }))\n",
    "#     return( ((n * (n + 1)) / ((n - 1) * (n - 2) * (n - 3))) * summation -\n",
    "#            ((3 * (n - 1)^2) / ((n - 2) * (n - 3))) )\n",
    "# }\n",
    "\n",
    "# Call: \n",
    "# kurtosis(y = seq(3))\n",
    "\n",
    "# Output:\n",
    "# Error in kurtosis(y = seq(3)): JL: input vector length is less than 4\n",
    "# Traceback:\n",
    "\n",
    "# 1. kurtosis(y = seq(3))\n",
    "# 2. stop(\"JL: input vector length is less than 4\")   # at line 43 of file <text>\n",
    "\n",
    "kurtosis <- function(y) {\n",
    "    if(!is.numeric(x = y)) {\n",
    "        stop(\"JL: input vector is not numeric\")\n",
    "    }\n",
    "    if(length(x = y) < 4) {\n",
    "        stop(\"JL: input vector length is less than 4\")\n",
    "    }\n",
    "    n <- length(y)\n",
    "    sample_mean <- mean(x = y)\n",
    "    sample_sd <- sd(x = y)\n",
    "    summation <- sum(sapply(X = y, FUN = function(y) {\n",
    "        ((y - sample_mean)/sample_sd)^4\n",
    "    }))\n",
    "    return( ((n * (n + 1)) / ((n - 1) * (n - 2) * (n - 3))) * summation -\n",
    "           ((3 * (n - 1)^2) / ((n - 2) * (n - 3))) )\n",
    "}\n",
    "\n",
    "kurtosis(y = seq(3))"
   ]
  },
  {
   "cell_type": "markdown",
   "metadata": {},
   "source": [
    "### Question 2, E"
   ]
  },
  {
   "cell_type": "code",
   "execution_count": 52,
   "metadata": {},
   "outputs": [
    {
     "data": {
      "text/html": [
       "1.8"
      ],
      "text/latex": [
       "1.8"
      ],
      "text/markdown": [
       "1.8"
      ],
      "text/plain": [
       "[1] 1.8"
      ]
     },
     "metadata": {},
     "output_type": "display_data"
    }
   ],
   "source": [
    "#e.  Add a logical argument called \"excess\" to your kurtosis function, that \n",
    "# defaults to TRUE.\n",
    "# When excess = TRUE the function should return the excess kurtosis as before,\n",
    "# but when excess = FALSE is should return the excess kurtosis + 3.\n",
    "# You can review Class 6, slide 23 to see how I returned a value that depended \n",
    "# on a logical condition.\n",
    "# Cut and paste your refined function here and show the results of calling it \n",
    "# with the arguments\n",
    "# kurtosis(y = seq(10), excess = FALSE)\n",
    "\n",
    "# Refined function:\n",
    "# kurtosis <- function(y, excess = TRUE) {\n",
    "#     if(!is.numeric(x = y)) {\n",
    "#         stop(\"JL: input vector is not numeric\")\n",
    "#     }\n",
    "#     if(length(x = y) < 4) {\n",
    "#         stop(\"JL: input vector length is less than 4\")\n",
    "#     }\n",
    "#     n <- length(y)\n",
    "#     sample_mean <- mean(x = y)\n",
    "#     sample_sd <- sd(x = y)\n",
    "#     summation <- sum(sapply(X = y, FUN = function(y) {\n",
    "#         ((y - sample_mean)/sample_sd)^4\n",
    "#     }))\n",
    "#     excess_kurtosis = ( ((n * (n + 1)) / ((n - 1) * (n - 2) * (n - 3))) * \n",
    "#                        summation -\n",
    "#                        ((3 * (n - 1)^2) / ((n - 2) * (n - 3))) )\n",
    "    \n",
    "#     if(excess == TRUE) {\n",
    "#         return(excess_kurtosis)\n",
    "#     }\n",
    "#     return(excess_kurtosis + 3)\n",
    "    \n",
    "# }\n",
    "\n",
    "# Call:\n",
    "# kurtosis(y = seq(10), excess = FALSE)\n",
    "\n",
    "# Output:\n",
    "# 1.8\n",
    "\n",
    "kurtosis <- function(y, excess = TRUE) {\n",
    "    if(!is.numeric(x = y)) {\n",
    "        stop(\"JL: input vector is not numeric\")\n",
    "    }\n",
    "    if(length(x = y) < 4) {\n",
    "        stop(\"JL: input vector length is less than 4\")\n",
    "    }\n",
    "    n <- length(y)\n",
    "    sample_mean <- mean(x = y)\n",
    "    sample_sd <- sd(x = y)\n",
    "    summation <- sum(sapply(X = y, FUN = function(y) {\n",
    "        ((y - sample_mean)/sample_sd)^4\n",
    "    }))\n",
    "    excess_kurtosis = ( ((n * (n + 1)) / ((n - 1) * (n - 2) * (n - 3))) * \n",
    "                       summation -\n",
    "                       ((3 * (n - 1)^2) / ((n - 2) * (n - 3))) )\n",
    "    \n",
    "    if(excess == TRUE) {\n",
    "        return(excess_kurtosis)\n",
    "    }\n",
    "    return(excess_kurtosis + 3)\n",
    "    \n",
    "}\n",
    "\n",
    "kurtosis(y = seq(10), excess = FALSE)"
   ]
  },
  {
   "cell_type": "markdown",
   "metadata": {},
   "source": [
    "## Question 3"
   ]
  },
  {
   "cell_type": "code",
   "execution_count": 53,
   "metadata": {},
   "outputs": [],
   "source": [
    "#### Q3. (15pts.) Applying the \"kurtosis\" function you wrote in Q2 to the \n",
    "# numeric columns of \"returns.df\" you created in Q1. \n",
    "\n",
    "#### Below you will apply the \"kurtosis\" function you just wrote, to the \n",
    "# numeric columns of \"returns.df\". \n",
    "#### You can identify the numeric columns with the built in R command \n",
    "# \"is.numeric\".\n",
    "#### It plays the role here of the \"is.dichotomous\" function we created in \n",
    "# class.\n",
    "#### You can use the \"sapply\" command (a special version of lapply) on the data \n",
    "# frame to identify the numeric columns.\n",
    "#### It returns a vector rather than a list which can save time having to \n",
    "# \"unlist\" the result.\n",
    "#### Note: if you try to use \"apply\" on the data frame, apply will first coerce\n",
    "# the data frame to a matrix, which can\n",
    "#### only contain one variable type, which will be character, so is.numeric \n",
    "# would report\n",
    "#### all FALSE which is not what you want.\n"
   ]
  },
  {
   "cell_type": "markdown",
   "metadata": {},
   "source": [
    "### Question 3, A"
   ]
  },
  {
   "cell_type": "code",
   "execution_count": 54,
   "metadata": {},
   "outputs": [
    {
     "name": "stdout",
     "output_type": "stream",
     "text": [
      "[1] \"Extracted 11 numeric columns from returns.df\"\n"
     ]
    }
   ],
   "source": [
    "#a. Write code to extract just the numeric columns of returns.df into their own \n",
    "# new data frame, called justnum.df\n",
    "# Your code needs to identify the numeric columns programatically.\n",
    "# Paste the code that you used for the extraction and programatically report \n",
    "# how many columns you extracted.\n",
    "\n",
    "# Call:\n",
    "# numeric_cols <- sapply(X = returns.df, FUN = is.numeric)\n",
    "# justnum.df <- returns.df[, numeric_cols]\n",
    "# print(paste(\"Extracted\", sum(numeric_cols), \"numeric columns from returns.df\"))\n",
    "\n",
    "# Output:\n",
    "# \"Extracted 11 numeric columns from returns.df\"\n",
    "\n",
    "numeric_cols <- sapply(X = returns.df, FUN = is.numeric)\n",
    "justnum.df <- returns.df[, numeric_cols]\n",
    "print(paste(\"Extracted\", sum(numeric_cols), \"numeric columns from returns.df\"))"
   ]
  },
  {
   "cell_type": "code",
   "execution_count": 55,
   "metadata": {},
   "outputs": [
    {
     "name": "stdout",
     "output_type": "stream",
     "text": [
      "     AMZN        BP      CALA       CVX      GBTC      GERN      GPRO       JPM \n",
      "13.839662  1.729705  7.565025  2.978323  2.044382  8.270739  4.528455  2.300904 \n",
      "     MNKD      TSLA       XOM \n",
      "42.082549  4.292236  4.286294 \n"
     ]
    }
   ],
   "source": [
    "#b. Paste the code needed to apply the kurtosis function to the justnum.df data\n",
    "# frame (use the default value for the excess argument). \n",
    "# Print the output from the kurtosis command when applied to the numeric \n",
    "# columns. Use either sapply or the apply command, no looping allowed. \n",
    "\n",
    "# Call:\n",
    "# print(sapply(X = justnum.df, FUN = kurtosis))\n",
    "\n",
    "# Output:\n",
    "#      AMZN        BP      CALA       CVX      GBTC      GERN      GPRO       JPM \n",
    "# 13.839662  1.729705  7.565025  2.978323  2.044382  8.270739  4.528455  2.300904 \n",
    "#      MNKD      TSLA       XOM \n",
    "# 42.082549  4.292236  4.286294 \n",
    "\n",
    "print(sapply(X = justnum.df, FUN = kurtosis))"
   ]
  },
  {
   "cell_type": "code",
   "execution_count": 56,
   "metadata": {},
   "outputs": [
    {
     "name": "stdout",
     "output_type": "stream",
     "text": [
      "    MNKD \n",
      "42.08255 \n"
     ]
    }
   ],
   "source": [
    "#c. Write code to programatically identify which stock has the highest kurtosis\n",
    "# in the justnum.df data frame. That is, your code needs to find\n",
    "# the stock with the maximum kurtosis and print both the stock name and its \n",
    "# excess kurtosis value.\n",
    "\n",
    "# Call:\n",
    "# print(sort(x = sapply(X = justnum.df, FUN = kurtosis), decreasing = TRUE)[1])\n",
    "\n",
    "# Output:\n",
    "#     MNKD \n",
    "# 42.08255 \n",
    "\n",
    "print(sort(x = sapply(X = justnum.df, FUN = kurtosis), decreasing = TRUE)[1])"
   ]
  },
  {
   "cell_type": "code",
   "execution_count": null,
   "metadata": {},
   "outputs": [],
   "source": []
  },
  {
   "cell_type": "code",
   "execution_count": null,
   "metadata": {},
   "outputs": [],
   "source": []
  }
 ],
 "metadata": {
  "kernelspec": {
   "display_name": "R",
   "language": "R",
   "name": "ir"
  },
  "language_info": {
   "codemirror_mode": "r",
   "file_extension": ".r",
   "mimetype": "text/x-r-source",
   "name": "R",
   "pygments_lexer": "r",
   "version": "3.5.1"
  },
  "toc": {
   "nav_menu": {},
   "number_sections": true,
   "sideBar": true,
   "skip_h1_title": false,
   "toc_cell": false,
   "toc_position": {},
   "toc_section_display": "block",
   "toc_window_display": false
  }
 },
 "nbformat": 4,
 "nbformat_minor": 2
}
