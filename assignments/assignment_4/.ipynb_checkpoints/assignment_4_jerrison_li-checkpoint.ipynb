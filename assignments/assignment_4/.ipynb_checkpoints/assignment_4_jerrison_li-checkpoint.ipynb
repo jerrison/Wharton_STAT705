{
 "cells": [
  {
   "cell_type": "markdown",
   "metadata": {},
   "source": [
    "# Assignment 4"
   ]
  },
  {
   "cell_type": "code",
   "execution_count": 1,
   "metadata": {},
   "outputs": [],
   "source": [
    "#### STAT 705 FALL 2018 ASSIGNMENT 4 (Iteration)\n",
    "#### NAME: Jerrison Li\n",
    "\n",
    "#### If in a question I refer to a function that we have not seen in class, \n",
    "#### then use the help facility to find out about it.\n",
    "#### Insert your answers under each question.\n",
    "#### Submit your solutions to Canvas as a plain text file.\n",
    "#### The file \"hw4_2018.Rdata\" contains the objects you need to do these \n",
    "#### questions. "
   ]
  },
  {
   "cell_type": "markdown",
   "metadata": {},
   "source": [
    "## Question 1"
   ]
  },
  {
   "cell_type": "code",
   "execution_count": 10,
   "metadata": {},
   "outputs": [],
   "source": [
    "# Q1. (14pts.) The probability of a \"player advantage\" signal in a card \n",
    "# counting system.\n",
    "# The card counting system does not care about the cards' suit \n",
    "# (hearts/clubs/diamonds/spades), \n",
    "# only their values\n",
    "\n",
    "#### Use the playing cards generated in class:\n",
    "CARDS <- paste(\n",
    "rep(c(\"ACE\",\"2\",\"3\",\"4\",\"5\",\"6\",\"7\",\"8\",\"9\",\"10\",\"J\",\"Q\",\"K\"),rep(4,13)),\n",
    "rep(c(\"H\",\"C\",\"D\",\"S\"),13),sep=\"_\")\n",
    "\n",
    "# and the \"sample\" command to shuffle the deck of cards.\n",
    "# Set the random number seed to your birthday number. \n",
    "\n",
    "birthday_seed = 19900601\n",
    "set.seed(birthday_seed)\n",
    "my.deck <- sample(CARDS)\n",
    "\n",
    "#The \"map\" that takes the card value to its count is\n",
    "\n",
    "#{ACE => -1, \n",
    "# 2   => +0.5,  %>% \n",
    "# 3   => +1, \n",
    "# 4   => +1, \n",
    "# 5   => +1.5, \n",
    "# 6   => +1, \n",
    "# 7   => +0.5, \n",
    "# 8   =>  0, \n",
    "# 9   => -0.5,\n",
    "#10   => -1,\n",
    "# J   => -1,\n",
    "# Q   => -1,\n",
    "# K   => -1}\n",
    "\n",
    "# Here are the card values in a vector\n",
    "cardvalues <- c(\"ACE\",\"2\",\"3\",\"4\",\"5\",\"6\",\"7\",\"8\",\"9\",\"10\",\"J\",\"Q\",\"K\")\n",
    "# Here are the card counts in a vector\n",
    "cardcounts <- c(-1,0.5,1,1,1.5,1,0.5,0,-0.5,-1,-1,-1,-1)"
   ]
  },
  {
   "cell_type": "markdown",
   "metadata": {},
   "source": [
    "### Question 1A"
   ]
  },
  {
   "cell_type": "code",
   "execution_count": 11,
   "metadata": {},
   "outputs": [
    {
     "name": "stdout",
     "output_type": "stream",
     "text": [
      "[1] \"Deck before replacement:\"\n",
      " [1] \"6_S\"   \"10_H\"  \"6_D\"   \"7_C\"   \"3_C\"   \"J_D\"   \"ACE_H\" \"2_S\"   \"ACE_D\"\n",
      "[10] \"ACE_C\" \"Q_S\"   \"J_H\"   \"5_S\"   \"K_S\"   \"7_H\"   \"K_C\"   \"9_S\"   \"7_S\"  \n",
      "[19] \"3_H\"   \"8_H\"   \"8_C\"   \"4_S\"   \"K_H\"   \"10_S\"  \"7_D\"   \"9_C\"   \"9_D\"  \n",
      "[28] \"2_D\"   \"Q_H\"   \"10_D\"  \"4_C\"   \"4_D\"   \"4_H\"   \"8_S\"   \"3_D\"   \"6_H\"  \n",
      "[37] \"K_D\"   \"5_H\"   \"2_C\"   \"10_C\"  \"6_C\"   \"5_D\"   \"2_H\"   \"J_C\"   \"9_H\"  \n",
      "[46] \"5_C\"   \"Q_C\"   \"8_D\"   \"3_S\"   \"Q_D\"   \"J_S\"   \"ACE_S\"\n",
      "[1] \"Deck after replacement:\"\n",
      " [1] \"6\"   \"10\"  \"6\"   \"7\"   \"3\"   \"J\"   \"ACE\" \"2\"   \"ACE\" \"ACE\" \"Q\"   \"J\"  \n",
      "[13] \"5\"   \"K\"   \"7\"   \"K\"   \"9\"   \"7\"   \"3\"   \"8\"   \"8\"   \"4\"   \"K\"   \"10\" \n",
      "[25] \"7\"   \"9\"   \"9\"   \"2\"   \"Q\"   \"10\"  \"4\"   \"4\"   \"4\"   \"8\"   \"3\"   \"6\"  \n",
      "[37] \"K\"   \"5\"   \"2\"   \"10\"  \"6\"   \"5\"   \"2\"   \"J\"   \"9\"   \"5\"   \"Q\"   \"8\"  \n",
      "[49] \"3\"   \"Q\"   \"J\"   \"ACE\"\n"
     ]
    }
   ],
   "source": [
    "#a. Replace the card representation with the card value\n",
    "#   For example \"ACE_H\" becomes \"ACE\", \"2_S\" becomes \"2\", \"8_H\" becomes \"8\".\n",
    "#   Use the \"gsub\" function to do this. Hint: you can match anything after the\n",
    "# \"_\" character with the \".*\" construct.\n",
    "\n",
    "# Paste your substitution code and show that it works with the my.deck shuffled \n",
    "# deck:\n",
    "\n",
    "# Code:\n",
    "# print(\"Deck before replacement:\")\n",
    "# print(my.deck)\n",
    "\n",
    "# my.deck <- gsub(pattern = \"_.*\", replacement = \"\", x = my.deck, ignore.case = TRUE)\n",
    "\n",
    "# print(\"Deck after replacement:\")\n",
    "# print(my.deck)\n",
    "\n",
    "# Output:\n",
    "# [1] \"Deck before replacement:\"\n",
    "#  [1] \"6_S\"   \"10_H\"  \"6_D\"   \"7_C\"   \"3_C\"   \"J_D\"   \"ACE_H\" \"2_S\"   \"ACE_D\"\n",
    "# [10] \"ACE_C\" \"Q_S\"   \"J_H\"   \"5_S\"   \"K_S\"   \"7_H\"   \"K_C\"   \"9_S\"   \"7_S\"  \n",
    "# [19] \"3_H\"   \"8_H\"   \"8_C\"   \"4_S\"   \"K_H\"   \"10_S\"  \"7_D\"   \"9_C\"   \"9_D\"  \n",
    "# [28] \"2_D\"   \"Q_H\"   \"10_D\"  \"4_C\"   \"4_D\"   \"4_H\"   \"8_S\"   \"3_D\"   \"6_H\"  \n",
    "# [37] \"K_D\"   \"5_H\"   \"2_C\"   \"10_C\"  \"6_C\"   \"5_D\"   \"2_H\"   \"J_C\"   \"9_H\"  \n",
    "# [46] \"5_C\"   \"Q_C\"   \"8_D\"   \"3_S\"   \"Q_D\"   \"J_S\"   \"ACE_S\"\n",
    "# [1] \"Deck after replacement:\"\n",
    "#  [1] \"6\"   \"10\"  \"6\"   \"7\"   \"3\"   \"J\"   \"ACE\" \"2\"   \"ACE\" \"ACE\" \"Q\"   \"J\"  \n",
    "# [13] \"5\"   \"K\"   \"7\"   \"K\"   \"9\"   \"7\"   \"3\"   \"8\"   \"8\"   \"4\"   \"K\"   \"10\" \n",
    "# [25] \"7\"   \"9\"   \"9\"   \"2\"   \"Q\"   \"10\"  \"4\"   \"4\"   \"4\"   \"8\"   \"3\"   \"6\"  \n",
    "# [37] \"K\"   \"5\"   \"2\"   \"10\"  \"6\"   \"5\"   \"2\"   \"J\"   \"9\"   \"5\"   \"Q\"   \"8\"  \n",
    "# [49] \"3\"   \"Q\"   \"J\"   \"ACE\"\n",
    "\n",
    "\n",
    "print(\"Deck before replacement:\")\n",
    "print(my.deck)\n",
    "\n",
    "my.deck <- gsub(pattern = \"_.*\", replacement = \"\", x = my.deck, ignore.case = TRUE)\n",
    "\n",
    "print(\"Deck after replacement:\")\n",
    "print(my.deck)"
   ]
  },
  {
   "cell_type": "markdown",
   "metadata": {},
   "source": [
    "### Question 1B"
   ]
  },
  {
   "cell_type": "code",
   "execution_count": 12,
   "metadata": {},
   "outputs": [
    {
     "name": "stdout",
     "output_type": "stream",
     "text": [
      "[1] \"Deck before count replacement:\"\n",
      " [1] \"6\"   \"10\"  \"6\"   \"7\"   \"3\"   \"J\"   \"ACE\" \"2\"   \"ACE\" \"ACE\" \"Q\"   \"J\"  \n",
      "[13] \"5\"   \"K\"   \"7\"   \"K\"   \"9\"   \"7\"   \"3\"   \"8\"   \"8\"   \"4\"   \"K\"   \"10\" \n",
      "[25] \"7\"   \"9\"   \"9\"   \"2\"   \"Q\"   \"10\"  \"4\"   \"4\"   \"4\"   \"8\"   \"3\"   \"6\"  \n",
      "[37] \"K\"   \"5\"   \"2\"   \"10\"  \"6\"   \"5\"   \"2\"   \"J\"   \"9\"   \"5\"   \"Q\"   \"8\"  \n",
      "[49] \"3\"   \"Q\"   \"J\"   \"ACE\"\n",
      "[1] \"Deck after count replacement:\"\n",
      " [1]  1.0 -1.0  1.0  0.5  1.0 -1.0 -1.0  0.5 -1.0 -1.0 -1.0 -1.0  1.5 -1.0  0.5\n",
      "[16] -1.0 -0.5  0.5  1.0  0.0  0.0  1.0 -1.0 -1.0  0.5 -0.5 -0.5  0.5 -1.0 -1.0\n",
      "[31]  1.0  1.0  1.0  0.0  1.0  1.0 -1.0  1.5  0.5 -1.0  1.0  1.5  0.5 -1.0 -0.5\n",
      "[46]  1.5 -1.0  0.0  1.0 -1.0 -1.0 -1.0\n"
     ]
    }
   ],
   "source": [
    "#b. Replace the card values from part 1a with their \"counts\". The \"match\" command is very useful to \n",
    "# achieve this.\n",
    "#   The two vectors, cardvalues and cardcounts defined above will also help. \n",
    "\n",
    "#   Paste your code that maps the card values to their counts (no for loops accepted)\n",
    "\n",
    "# Code:\n",
    "# print(\"Deck before count replacement:\")\n",
    "# print(my.deck)\n",
    "\n",
    "# my.deck <- cardcounts[match(x = my.deck, table = cardvalues)]\n",
    "\n",
    "# print(\"Deck after count replacement:\")\n",
    "# print(my.deck)\n",
    "\n",
    "# Output:\n",
    "# [1] \"Deck before count replacement:\"\n",
    "#  [1] \"6\"   \"10\"  \"6\"   \"7\"   \"3\"   \"J\"   \"ACE\" \"2\"   \"ACE\" \"ACE\" \"Q\"   \"J\"  \n",
    "# [13] \"5\"   \"K\"   \"7\"   \"K\"   \"9\"   \"7\"   \"3\"   \"8\"   \"8\"   \"4\"   \"K\"   \"10\" \n",
    "# [25] \"7\"   \"9\"   \"9\"   \"2\"   \"Q\"   \"10\"  \"4\"   \"4\"   \"4\"   \"8\"   \"3\"   \"6\"  \n",
    "# [37] \"K\"   \"5\"   \"2\"   \"10\"  \"6\"   \"5\"   \"2\"   \"J\"   \"9\"   \"5\"   \"Q\"   \"8\"  \n",
    "# [49] \"3\"   \"Q\"   \"J\"   \"ACE\"\n",
    "# [1] \"Deck after count replacement:\"\n",
    "#  [1]  1.0 -1.0  1.0  0.5  1.0 -1.0 -1.0  0.5 -1.0 -1.0 -1.0 -1.0  1.5 -1.0  0.5\n",
    "# [16] -1.0 -0.5  0.5  1.0  0.0  0.0  1.0 -1.0 -1.0  0.5 -0.5 -0.5  0.5 -1.0 -1.0\n",
    "# [31]  1.0  1.0  1.0  0.0  1.0  1.0 -1.0  1.5  0.5 -1.0  1.0  1.5  0.5 -1.0 -0.5\n",
    "# [46]  1.5 -1.0  0.0  1.0 -1.0 -1.0 -1.0\n",
    "\n",
    "print(\"Deck before count replacement:\")\n",
    "print(my.deck)\n",
    "\n",
    "my.deck <- cardcounts[match(x = my.deck, table = cardvalues)]\n",
    "\n",
    "print(\"Deck after count replacement:\")\n",
    "print(my.deck)"
   ]
  },
  {
   "cell_type": "markdown",
   "metadata": {},
   "source": [
    "### Question 1C"
   ]
  },
  {
   "cell_type": "code",
   "execution_count": 13,
   "metadata": {},
   "outputs": [
    {
     "name": "stdout",
     "output_type": "stream",
     "text": [
      "[1] \"The estimated probability is:  0.184668\"\n"
     ]
    }
   ],
   "source": [
    "#c. Reset the random number seed to your birthday number here and paste the code you used to do it.\n",
    "#   For a card counting system to be useful in practice, it needs to be able to\n",
    "#   generate \"player advantage\" signals reasonably frequently. If it only generates an \"advantage\" \n",
    "#   signal once every 1000 shuffled decks, it will not be very useful in practice.\n",
    "#\n",
    "#   Define an \"advantage\" signal happening if the cumulative card count in the deck rises strictly \n",
    "#   above 5.\n",
    "#   Use a Monte Carlo simulation with a replication size of 1,000,000, to estimate the probability \n",
    "#   that a\n",
    "#   randomly shuffled card deck generates an \"advantage\" signal within the first 30 played cards.\n",
    "#   Between each iteration make sure you re-shuffle the deck.\n",
    "#   You will find the command \"cumsum\" very helpful in this task. \"cumsum\" calculates a cumulative \n",
    "#   sum of a vector\n",
    "#   which is exactly what the cumulative card count is.\n",
    "#\n",
    "#   Cut and paste your code that performs the Monte Carlo together with the final estimated \n",
    "#   probability.\n",
    "\n",
    "# Code:\n",
    "# set.seed(birthday_seed)\n",
    "# num.its <- 1000000\n",
    "# counter <- 0\n",
    "\n",
    "# for(i in 1:num.its) {\n",
    "#     new_deck <- \n",
    "#     if(any(cumsum(sample(x = my.deck))[1:30] > 5)) {\n",
    "#         counter = counter + 1\n",
    "#     }\n",
    "# }\n",
    "\n",
    "# print(paste(\"The estimated probability is: \", counter / num.its)\n",
    "\n",
    "# Output:\n",
    "# [1] \"The estimated probability is:  0.184668\"\n",
    "\n",
    "set.seed(birthday_seed)\n",
    "num.its <- 1000000\n",
    "counter <- 0\n",
    "\n",
    "for (i in 1:num.its) {\n",
    "    my.deck <- sample(x = CARDS, replace = FALSE)\n",
    "    if(sum(cumsum(cardcounts[match(gsub(\"_.*\",\"\",my.deck),cardvalues)])[1:30] > 5) > 0) { \n",
    "    counter <- counter + 1\n",
    "  }\n",
    "}\n",
    "\n",
    "print(paste(\"The estimated probability is: \", counter / num.its))"
   ]
  },
  {
   "cell_type": "markdown",
   "metadata": {},
   "source": [
    "## Question 2"
   ]
  },
  {
   "cell_type": "code",
   "execution_count": 421,
   "metadata": {},
   "outputs": [],
   "source": [
    "# Q2. (20 pts.) Data manipulations. Use the \"new.outpatient\" data frame \n",
    "# included in the .Rdata file \n",
    "# to answer parts a and b, and the \"behavior.df\" (which you will recreate, \n",
    "# slide 29, class 8) data frame to answer parts c and d. \n",
    "# You can modify the code that is available on the class 8 slides, to help \n",
    "# rebuild the behavior.df.\n",
    "  \n",
    "#   For parts a through d, paste the R code that you wrote to answer each \n",
    "#   question as well as the answer/output itself."
   ]
  },
  {
   "cell_type": "markdown",
   "metadata": {},
   "source": [
    "### Question 2A"
   ]
  },
  {
   "cell_type": "code",
   "execution_count": 422,
   "metadata": {},
   "outputs": [
    {
     "name": "stdout",
     "output_type": "stream",
     "text": [
      "  8 \n",
      "250 \n"
     ]
    }
   ],
   "source": [
    "#a. In which month were the most number of appointments scheduled (use the \n",
    "# SchedDate column). \n",
    "#   You will need to extract the month from the POSIXlt data structure.\n",
    "\n",
    "# Code: \n",
    "# hw4_data <- load(file = paste0(\"/Users/jerrison/Wharton_MBA/Wharton_STAT_705/\", \n",
    "#                                \"data/hw4_2018.rdata\"))\n",
    "\n",
    "# new.outpatient$Month <- as.POSIXlt(new.outpatient$SchedDate)$mon + 1\n",
    "\n",
    "# print(sort(x = table(new.outpatient$Month), decreasing = TRUE)[1])\n",
    "\n",
    "# Output:\n",
    "#   8 \n",
    "# 250 \n",
    "\n",
    "# Answer:\n",
    "# The month with the most number of appointments was August with 250 \n",
    "# appointments.\n",
    "\n",
    "hw4_data <- load(file = paste0(\"/Users/jerrison/Wharton_MBA/Wharton_STAT_705/\", \n",
    "                               \"data/hw4_2018.rdata\"))\n",
    "\n",
    "new.outpatient$Month <- as.POSIXlt(new.outpatient$SchedDate)$mon + 1\n",
    "\n",
    "print(sort(x = table(new.outpatient$Month), decreasing = TRUE)[1])"
   ]
  },
  {
   "cell_type": "markdown",
   "metadata": {},
   "source": [
    "### Question 2B"
   ]
  },
  {
   "cell_type": "code",
   "execution_count": 423,
   "metadata": {},
   "outputs": [
    {
     "data": {
      "text/html": [
       "<strong>TRAUMA:</strong> 0.115942028985507"
      ],
      "text/latex": [
       "\\textbf{TRAUMA:} 0.115942028985507"
      ],
      "text/markdown": [
       "**TRAUMA:** 0.115942028985507"
      ],
      "text/plain": [
       "  TRAUMA \n",
       "0.115942 "
      ]
     },
     "metadata": {},
     "output_type": "display_data"
    }
   ],
   "source": [
    "#b. In which Department is the No Show rate in the new.outpatient data frame\n",
    "#  the lowest? \n",
    "\n",
    "# Code:\n",
    "# no_show_by_dept <- table(new.outpatient$Status,new.outpatient$Dept)[\"No Show\", ] / \n",
    "# (table(new.outpatient$Status,new.outpatient$Dept)[\"Arrived\",] +\n",
    "# table(new.outpatient$Status,new.outpatient$Dept)[\"No Show\",])\n",
    "\n",
    "# sort(no_show_by_dept)[1]\n",
    "\n",
    "# Output:\n",
    "# TRAUMA: 0.115942028985507\n",
    "\n",
    "# Answer:\n",
    "# The TRAUMA department had the lowest no show rate\n",
    "\n",
    "no_show_by_dept <- table(new.outpatient$Status,new.outpatient$Dept)[\"No Show\", ] / \n",
    "(table(new.outpatient$Status,new.outpatient$Dept)[\"Arrived\",] +\n",
    "table(new.outpatient$Status,new.outpatient$Dept)[\"No Show\",])\n",
    "\n",
    "sort(no_show_by_dept)[1]"
   ]
  },
  {
   "cell_type": "markdown",
   "metadata": {},
   "source": [
    "### Question 2C"
   ]
  },
  {
   "cell_type": "code",
   "execution_count": 424,
   "metadata": {},
   "outputs": [
    {
     "data": {
      "text/html": [
       "<table>\n",
       "<thead><tr><th></th><th scope=col>PID</th><th scope=col>Sex</th><th scope=col>Age</th><th scope=col>Prior.Visits</th><th scope=col>No.Show.Rate</th><th scope=col>Current.Visit.Lag</th><th scope=col>Current.Visit.Status</th><th scope=col>num_specialties</th></tr></thead>\n",
       "<tbody>\n",
       "\t<tr><th scope=row>309</th><td>P10337   </td><td>1        </td><td>62       </td><td> 8       </td><td>0.1250000</td><td> 4       </td><td>Arrived  </td><td>5        </td></tr>\n",
       "\t<tr><th scope=row>575</th><td>P10636   </td><td>2        </td><td>72       </td><td> 7       </td><td>0.2857143</td><td>25       </td><td>Arrived  </td><td>5        </td></tr>\n",
       "\t<tr><th scope=row>825</th><td>P10932   </td><td>1        </td><td>50       </td><td>22       </td><td>0.4090909</td><td>33       </td><td>No Show  </td><td>5        </td></tr>\n",
       "\t<tr><th scope=row>883</th><td>P10998   </td><td>2        </td><td>58       </td><td>25       </td><td>0.4000000</td><td> 8       </td><td>Arrived  </td><td>5        </td></tr>\n",
       "</tbody>\n",
       "</table>\n"
      ],
      "text/latex": [
       "\\begin{tabular}{r|llllllll}\n",
       "  & PID & Sex & Age & Prior.Visits & No.Show.Rate & Current.Visit.Lag & Current.Visit.Status & num\\_specialties\\\\\n",
       "\\hline\n",
       "\t309 & P10337    & 1         & 62        &  8        & 0.1250000 &  4        & Arrived   & 5        \\\\\n",
       "\t575 & P10636    & 2         & 72        &  7        & 0.2857143 & 25        & Arrived   & 5        \\\\\n",
       "\t825 & P10932    & 1         & 50        & 22        & 0.4090909 & 33        & No Show   & 5        \\\\\n",
       "\t883 & P10998    & 2         & 58        & 25        & 0.4000000 &  8        & Arrived   & 5        \\\\\n",
       "\\end{tabular}\n"
      ],
      "text/markdown": [
       "\n",
       "| <!--/--> | PID | Sex | Age | Prior.Visits | No.Show.Rate | Current.Visit.Lag | Current.Visit.Status | num_specialties | \n",
       "|---|---|---|---|\n",
       "| 309 | P10337    | 1         | 62        |  8        | 0.1250000 |  4        | Arrived   | 5         | \n",
       "| 575 | P10636    | 2         | 72        |  7        | 0.2857143 | 25        | Arrived   | 5         | \n",
       "| 825 | P10932    | 1         | 50        | 22        | 0.4090909 | 33        | No Show   | 5         | \n",
       "| 883 | P10998    | 2         | 58        | 25        | 0.4000000 |  8        | Arrived   | 5         | \n",
       "\n",
       "\n"
      ],
      "text/plain": [
       "    PID    Sex Age Prior.Visits No.Show.Rate Current.Visit.Lag\n",
       "309 P10337 1   62   8           0.1250000     4               \n",
       "575 P10636 2   72   7           0.2857143    25               \n",
       "825 P10932 1   50  22           0.4090909    33               \n",
       "883 P10998 2   58  25           0.4000000     8               \n",
       "    Current.Visit.Status num_specialties\n",
       "309 Arrived              5              \n",
       "575 Arrived              5              \n",
       "825 No Show              5              \n",
       "883 Arrived              5              "
      ]
     },
     "metadata": {},
     "output_type": "display_data"
    }
   ],
   "source": [
    "#c. Which patient(s) has seen the most number of different specialities?\n",
    "#   Use the \"Dept\" variable and include the most recent visit in the count.\n",
    "#   How many different specialities did they see and in how many visits? \n",
    "#   (I suggest you modify the \"extract.hist\" function from slide 26, class 8 \n",
    "#   adding a new variable Num.Specialties)\n",
    "\n",
    "# Code:\n",
    "# num.pats <- length(unique(new.outpatient$PID))\n",
    "# behavior.df <- data.frame(\n",
    "#     PID = as.character(rep(NA,num.pats)),\n",
    "#     Sex = rep(NA,num.pats),\n",
    "#     Age = rep(NA,num.pats),\n",
    "#     Prior.Visits = rep(NA,num.pats),\n",
    "#     No.Show.Rate = rep(NA,num.pats),\n",
    "#     Current.Visit.Lag = rep(NA,num.pats),\n",
    "#     Current.Visit.Status = as.character(rep(NA,num.pats)),\n",
    "#     num_specialties = rep(NA,num.pats),\n",
    "#     stringsAsFactors = FALSE #Stop the use of factors, keep as characters\n",
    "# )\n",
    "\n",
    "# extract.hist <- function(df){ \n",
    "#     Specialties <- length(unique(df$Dept))\n",
    "#     # Special case: there is a single record, no history\n",
    "#     if(nrow(df) == 1){\n",
    "#         return(data.frame(\n",
    "#             PID = as.character(df[1,\"PID\"]),\n",
    "#             Sex = df[1,\"Sex\"],\n",
    "#             Age = df[1,\"Age\"],\n",
    "#             Prior.Visits = 0, #No prior visits\n",
    "#             No.Show.Rate = NA, #Undefined prior no show rate\n",
    "#             Current.Visit.Lag = df[1,\"SchedLag\"],\n",
    "#             Current.Visit.Status = as.character(df[1,\"Status\"]),\n",
    "#             num_specialties = Specialties,\n",
    "#             stringsAsFactors = FALSE #Stop the use of factors\n",
    "#         )\n",
    "#               )\n",
    "#     }\n",
    "#   # The rest of the code will only be executed if the if failed\n",
    "#     prior.visits <- nrow(df) - 1 \n",
    "#     prop.no.show <- (\n",
    "#         sum(\n",
    "#             df[-nrow(df),\"Status\"]\n",
    "#             == \"No Show\") \n",
    "#         / prior.visits \n",
    "#     )\n",
    "#     last.row.num <- nrow(df)\n",
    "#     return(data.frame(\n",
    "#         PID = as.character(df[last.row.num,\"PID\"]),\n",
    "#         Sex = df[last.row.num,\"Sex\"],\n",
    "#         Age = df[last.row.num,\"Age\"],\n",
    "#         Prior.Visits = prior.visits, #We just calculated this \n",
    "#         No.Show.Rate = prop.no.show, #We just calculated this \n",
    "#         Current.Visit.Lag = df[last.row.num,\"SchedLag\"],\n",
    "#         Current.Visit.Status = as.character(df[last.row.num,\"Status\"]),\n",
    "#         num_specialties = Specialties,\n",
    "#         stringsAsFactors = FALSE #Stop the use of factors\n",
    "#     )\n",
    "#           )\n",
    "# }\n",
    "\n",
    "# row.counter <- 1 #start by filling the first row\n",
    "# for(pid in unique(new.outpatient$PID)){ #iterate over id's\n",
    "#     behavior.df[row.counter, ] <- extract.hist(df = # Pull out history\n",
    "#                                                new.outpatient[new.outpatient$PID == pid,])\n",
    "#     row.counter <- row.counter + 1 # Increment the row counter by 1\n",
    "# }\n",
    "\n",
    "# behavior.df[behavior.df$num_specialties == max(behavior.df$num_specialties), ]\n",
    "\n",
    "# Output:\n",
    "# \tPID\tSex\tAge\tPrior.Visits\tNo.Show.Rate\tCurrent.Visit.Lag\tCurrent.Visit.Status\tnum_specialties\n",
    "# 309\tP10337\t1\t62\t8\t0.1250000\t4\tArrived\t5\n",
    "# 575\tP10636\t2\t72\t7\t0.2857143\t25\tArrived\t5\n",
    "# 825\tP10932\t1\t50\t22\t0.4090909\t33\tNo Show\t5\n",
    "# 883\tP10998\t2\t58\t25\t0.4000000\t8\tArrived\t5\n",
    "\n",
    "\n",
    "# Answer:\n",
    "# Patients P10337, P10636, P10932, P10998 have seen the most number of\n",
    "# different specialities with 5, and with 9, 8, 23 and 26 visits respectively\n",
    "\n",
    "num.pats <- length(unique(new.outpatient$PID))\n",
    "behavior.df <- data.frame(\n",
    "    PID = as.character(rep(NA,num.pats)),\n",
    "    Sex = rep(NA,num.pats),\n",
    "    Age = rep(NA,num.pats),\n",
    "    Prior.Visits = rep(NA,num.pats),\n",
    "    No.Show.Rate = rep(NA,num.pats),\n",
    "    Current.Visit.Lag = rep(NA,num.pats),\n",
    "    Current.Visit.Status = as.character(rep(NA,num.pats)),\n",
    "    num_specialties = rep(NA,num.pats),\n",
    "    stringsAsFactors = FALSE #Stop the use of factors, keep as characters\n",
    ")\n",
    "\n",
    "extract.hist <- function(df){ \n",
    "    Specialties <- length(unique(df$Dept))\n",
    "    # Special case: there is a single record, no history\n",
    "    if(nrow(df) == 1){\n",
    "        return(data.frame(\n",
    "            PID = as.character(df[1,\"PID\"]),\n",
    "            Sex = df[1,\"Sex\"],\n",
    "            Age = df[1,\"Age\"],\n",
    "            Prior.Visits = 0, #No prior visits\n",
    "            No.Show.Rate = NA, #Undefined prior no show rate\n",
    "            Current.Visit.Lag = df[1,\"SchedLag\"],\n",
    "            Current.Visit.Status = as.character(df[1,\"Status\"]),\n",
    "            num_specialties = Specialties,\n",
    "            stringsAsFactors = FALSE #Stop the use of factors\n",
    "        )\n",
    "              )\n",
    "    }\n",
    "  # The rest of the code will only be executed if the if failed\n",
    "    prior.visits <- nrow(df) - 1 \n",
    "    prop.no.show <- (\n",
    "        sum(\n",
    "            df[-nrow(df),\"Status\"]\n",
    "            == \"No Show\") \n",
    "        / prior.visits \n",
    "    )\n",
    "    last.row.num <- nrow(df)\n",
    "    return(data.frame(\n",
    "        PID = as.character(df[last.row.num,\"PID\"]),\n",
    "        Sex = df[last.row.num,\"Sex\"],\n",
    "        Age = df[last.row.num,\"Age\"],\n",
    "        Prior.Visits = prior.visits, #We just calculated this \n",
    "        No.Show.Rate = prop.no.show, #We just calculated this \n",
    "        Current.Visit.Lag = df[last.row.num,\"SchedLag\"],\n",
    "        Current.Visit.Status = as.character(df[last.row.num,\"Status\"]),\n",
    "        num_specialties = Specialties,\n",
    "        stringsAsFactors = FALSE #Stop the use of factors\n",
    "    )\n",
    "          )\n",
    "}\n",
    "\n",
    "row.counter <- 1 #start by filling the first row\n",
    "for(pid in unique(new.outpatient$PID)){ #iterate over id's\n",
    "    behavior.df[row.counter, ] <- extract.hist(df = # Pull out history\n",
    "                                               new.outpatient[new.outpatient$PID == pid,])\n",
    "    row.counter <- row.counter + 1 # Increment the row counter by 1\n",
    "}\n",
    "\n",
    "behavior.df[behavior.df$num_specialties == max(behavior.df$num_specialties), ]"
   ]
  },
  {
   "cell_type": "markdown",
   "metadata": {},
   "source": [
    "### Question 2D"
   ]
  },
  {
   "cell_type": "code",
   "execution_count": 425,
   "metadata": {},
   "outputs": [
    {
     "name": "stdout",
     "output_type": "stream",
     "text": [
      "[1] \"Male no show > 40% proportion: 0.426829268292683\"\n",
      "[1] \"Female no show > 40% proportion: 0.573170731707317\"\n",
      "[1] \"Male proportion: 0.465536723163842\"\n",
      "[1] \"Female proportion: 0.534463276836158\"\n"
     ]
    }
   ],
   "source": [
    "#d. Of those patients that had a prior no-show rate of above 40%, what \n",
    "#   proportion were men, and what proportion were women? \n",
    "#   Compare this to the sex proportion for all patients, irrespective of \n",
    "#   no-show rate. \n",
    "#   In the numeric representation of the Sex variable, 1 is Female and 2 Male. \n",
    "\n",
    "# Code:\n",
    "# no_shows_total <- subset(x = behavior.df, No.Show.Rate > 0.4)\n",
    "# no_shows_f <- subset(x = behavior.df, No.Show.Rate > 0.4 & Sex == 1)\n",
    "# no_shows_m <- subset(x = behavior.df, No.Show.Rate > 0.4 & Sex == 2)\n",
    "# all_f <- subset(x = behavior.df, Sex == 1)\n",
    "# all_m <- subset(x = behavior.df, Sex == 2)\n",
    "\n",
    "# print(paste0(\"Male no show > 40% proportion: \",\n",
    "#              nrow(no_shows_m)/nrow(no_shows_total)))\n",
    "\n",
    "# print(paste0(\"Female no show > 40% proportion: \",\n",
    "#              nrow(no_shows_f)/nrow(no_shows_total)))\n",
    "\n",
    "# print(paste0(\"Male proportion: \",\n",
    "#              nrow(all_m)/nrow(behavior.df)))\n",
    "\n",
    "# print(paste0(\"Female proportion: \",\n",
    "#              nrow(all_f)/nrow(behavior.df)))\n",
    "\n",
    "# Output:\n",
    "# [1] \"Male no show > 40% proportion: 0.426829268292683\"\n",
    "# [1] \"Female no show > 40% proportion: 0.573170731707317\"\n",
    "# [1] \"Male proportion: 0.465536723163842\"\n",
    "# [1] \"Female proportion: 0.534463276836158\"\n",
    "\n",
    "# Answer: Male proportion for no shows higher than 40% was 0.426829268292683\n",
    "# compared to 0.465536723163842 for all patients. Female proportion for patients\n",
    "# with a no show ratio higher than 40% was 0.573170731707317 compared to\n",
    "# 0.534463276836158 for all patients.\n",
    "\n",
    "no_shows_total <- subset(x = behavior.df, No.Show.Rate > 0.4)\n",
    "no_shows_f <- subset(x = behavior.df, No.Show.Rate > 0.4 & Sex == 1)\n",
    "no_shows_m <- subset(x = behavior.df, No.Show.Rate > 0.4 & Sex == 2)\n",
    "all_f <- subset(x = behavior.df, Sex == 1)\n",
    "all_m <- subset(x = behavior.df, Sex == 2)\n",
    "\n",
    "print(paste0(\"Male no show > 40% proportion: \",\n",
    "             nrow(no_shows_m)/nrow(no_shows_total)))\n",
    "\n",
    "print(paste0(\"Female no show > 40% proportion: \",\n",
    "             nrow(no_shows_f)/nrow(no_shows_total)))\n",
    "\n",
    "print(paste0(\"Male proportion: \",\n",
    "             nrow(all_m)/nrow(behavior.df)))\n",
    "\n",
    "print(paste0(\"Female proportion: \",\n",
    "             nrow(all_f)/nrow(behavior.df)))\n"
   ]
  },
  {
   "cell_type": "markdown",
   "metadata": {},
   "source": [
    "## Question 3"
   ]
  },
  {
   "cell_type": "code",
   "execution_count": 426,
   "metadata": {},
   "outputs": [],
   "source": [
    "# Q3. (16 pts.) Influence of pairs of points on a regression, aka \"masking\". For loops. \n",
    "# Use the tsla.ret.df data frame which is included in the \"hw4_2018.Rdata\" file to answer this question.\n",
    "# Paste the R code that you write to answer each part as well as the answer itself."
   ]
  },
  {
   "cell_type": "markdown",
   "metadata": {},
   "source": [
    "### Question 3A"
   ]
  },
  {
   "cell_type": "code",
   "execution_count": 427,
   "metadata": {},
   "outputs": [
    {
     "name": "stdout",
     "output_type": "stream",
     "text": [
      "[1] 0.160639\n"
     ]
    }
   ],
   "source": [
    "#a. Run the simple regression of the TSLA (y) return against the S&P500 return\n",
    "# (x) and report the R-squared from the regression.\n",
    "\n",
    "# Code:\n",
    "# lm.out <- lm(formula = TSLA.Return ~ SP.Return, data = tsla.ret.df)\n",
    "# reg.summary <- summary(lm.out)\n",
    "\n",
    "# print(reg.summary$r.squared)\n",
    "\n",
    "# Output:\n",
    "# [1] 0.160639\n",
    "\n",
    "# Answer:\n",
    "# The R-squared from the regression is 0.160639\n",
    "\n",
    "lm.out <- lm(formula = TSLA.Return ~ SP.Return, data = tsla.ret.df)\n",
    "reg.summary <- summary(lm.out)\n",
    "\n",
    "print(reg.summary$r.squared)"
   ]
  },
  {
   "cell_type": "code",
   "execution_count": 428,
   "metadata": {},
   "outputs": [
    {
     "data": {
      "text/html": [
       "<table>\n",
       "<thead><tr><th></th><th scope=col>9/5/2017</th><th scope=col>9/6/2017</th><th scope=col>9/7/2017</th><th scope=col>9/8/2017</th><th scope=col>9/11/2017</th><th scope=col>9/12/2017</th><th scope=col>9/13/2017</th><th scope=col>9/14/2017</th><th scope=col>9/15/2017</th><th scope=col>9/18/2017</th><th scope=col>⋯</th><th scope=col>8/20/2018</th><th scope=col>8/21/2018</th><th scope=col>8/22/2018</th><th scope=col>8/23/2018</th><th scope=col>8/24/2018</th><th scope=col>8/27/2018</th><th scope=col>8/28/2018</th><th scope=col>8/29/2018</th><th scope=col>8/30/2018</th><th scope=col>8/31/2018</th></tr></thead>\n",
       "<tbody>\n",
       "\t<tr><th scope=row>9/5/2017</th><td>NA</td><td>NA</td><td>NA</td><td>NA</td><td>NA</td><td>NA</td><td>NA</td><td>NA</td><td>NA</td><td>NA</td><td>⋯ </td><td>NA</td><td>NA</td><td>NA</td><td>NA</td><td>NA</td><td>NA</td><td>NA</td><td>NA</td><td>NA</td><td>NA</td></tr>\n",
       "\t<tr><th scope=row>9/6/2017</th><td>NA</td><td>NA</td><td>NA</td><td>NA</td><td>NA</td><td>NA</td><td>NA</td><td>NA</td><td>NA</td><td>NA</td><td>⋯ </td><td>NA</td><td>NA</td><td>NA</td><td>NA</td><td>NA</td><td>NA</td><td>NA</td><td>NA</td><td>NA</td><td>NA</td></tr>\n",
       "\t<tr><th scope=row>9/7/2017</th><td>NA</td><td>NA</td><td>NA</td><td>NA</td><td>NA</td><td>NA</td><td>NA</td><td>NA</td><td>NA</td><td>NA</td><td>⋯ </td><td>NA</td><td>NA</td><td>NA</td><td>NA</td><td>NA</td><td>NA</td><td>NA</td><td>NA</td><td>NA</td><td>NA</td></tr>\n",
       "\t<tr><th scope=row>9/8/2017</th><td>NA</td><td>NA</td><td>NA</td><td>NA</td><td>NA</td><td>NA</td><td>NA</td><td>NA</td><td>NA</td><td>NA</td><td>⋯ </td><td>NA</td><td>NA</td><td>NA</td><td>NA</td><td>NA</td><td>NA</td><td>NA</td><td>NA</td><td>NA</td><td>NA</td></tr>\n",
       "\t<tr><th scope=row>9/11/2017</th><td>NA</td><td>NA</td><td>NA</td><td>NA</td><td>NA</td><td>NA</td><td>NA</td><td>NA</td><td>NA</td><td>NA</td><td>⋯ </td><td>NA</td><td>NA</td><td>NA</td><td>NA</td><td>NA</td><td>NA</td><td>NA</td><td>NA</td><td>NA</td><td>NA</td></tr>\n",
       "\t<tr><th scope=row>9/12/2017</th><td>NA</td><td>NA</td><td>NA</td><td>NA</td><td>NA</td><td>NA</td><td>NA</td><td>NA</td><td>NA</td><td>NA</td><td>⋯ </td><td>NA</td><td>NA</td><td>NA</td><td>NA</td><td>NA</td><td>NA</td><td>NA</td><td>NA</td><td>NA</td><td>NA</td></tr>\n",
       "</tbody>\n",
       "</table>\n"
      ],
      "text/latex": [
       "\\begin{tabular}{r|lllllllllllllllllllllllllllllllllllllllllllllllllllllllllllllllllllllllllllllllllllllllllllllllllllllllllllllllllllllllllllllllllllllllllllllllllllllllllllllllllllllllllllllllllllllllllllllllllllllllllllllllllllllllllllllllllllllllllllllllllllllllllll}\n",
       "  & 9/5/2017 & 9/6/2017 & 9/7/2017 & 9/8/2017 & 9/11/2017 & 9/12/2017 & 9/13/2017 & 9/14/2017 & 9/15/2017 & 9/18/2017 & ⋯ & 8/20/2018 & 8/21/2018 & 8/22/2018 & 8/23/2018 & 8/24/2018 & 8/27/2018 & 8/28/2018 & 8/29/2018 & 8/30/2018 & 8/31/2018\\\\\n",
       "\\hline\n",
       "\t9/5/2017 & NA & NA & NA & NA & NA & NA & NA & NA & NA & NA & ⋯  & NA & NA & NA & NA & NA & NA & NA & NA & NA & NA\\\\\n",
       "\t9/6/2017 & NA & NA & NA & NA & NA & NA & NA & NA & NA & NA & ⋯  & NA & NA & NA & NA & NA & NA & NA & NA & NA & NA\\\\\n",
       "\t9/7/2017 & NA & NA & NA & NA & NA & NA & NA & NA & NA & NA & ⋯  & NA & NA & NA & NA & NA & NA & NA & NA & NA & NA\\\\\n",
       "\t9/8/2017 & NA & NA & NA & NA & NA & NA & NA & NA & NA & NA & ⋯  & NA & NA & NA & NA & NA & NA & NA & NA & NA & NA\\\\\n",
       "\t9/11/2017 & NA & NA & NA & NA & NA & NA & NA & NA & NA & NA & ⋯  & NA & NA & NA & NA & NA & NA & NA & NA & NA & NA\\\\\n",
       "\t9/12/2017 & NA & NA & NA & NA & NA & NA & NA & NA & NA & NA & ⋯  & NA & NA & NA & NA & NA & NA & NA & NA & NA & NA\\\\\n",
       "\\end{tabular}\n"
      ],
      "text/markdown": [
       "\n",
       "| <!--/--> | 9/5/2017 | 9/6/2017 | 9/7/2017 | 9/8/2017 | 9/11/2017 | 9/12/2017 | 9/13/2017 | 9/14/2017 | 9/15/2017 | 9/18/2017 | ⋯ | 8/20/2018 | 8/21/2018 | 8/22/2018 | 8/23/2018 | 8/24/2018 | 8/27/2018 | 8/28/2018 | 8/29/2018 | 8/30/2018 | 8/31/2018 | \n",
       "|---|---|---|---|---|---|\n",
       "| 9/5/2017 | NA | NA | NA | NA | NA | NA | NA | NA | NA | NA | ⋯  | NA | NA | NA | NA | NA | NA | NA | NA | NA | NA | \n",
       "| 9/6/2017 | NA | NA | NA | NA | NA | NA | NA | NA | NA | NA | ⋯  | NA | NA | NA | NA | NA | NA | NA | NA | NA | NA | \n",
       "| 9/7/2017 | NA | NA | NA | NA | NA | NA | NA | NA | NA | NA | ⋯  | NA | NA | NA | NA | NA | NA | NA | NA | NA | NA | \n",
       "| 9/8/2017 | NA | NA | NA | NA | NA | NA | NA | NA | NA | NA | ⋯  | NA | NA | NA | NA | NA | NA | NA | NA | NA | NA | \n",
       "| 9/11/2017 | NA | NA | NA | NA | NA | NA | NA | NA | NA | NA | ⋯  | NA | NA | NA | NA | NA | NA | NA | NA | NA | NA | \n",
       "| 9/12/2017 | NA | NA | NA | NA | NA | NA | NA | NA | NA | NA | ⋯  | NA | NA | NA | NA | NA | NA | NA | NA | NA | NA | \n",
       "\n",
       "\n"
      ],
      "text/plain": [
       "          9/5/2017 9/6/2017 9/7/2017 9/8/2017 9/11/2017 9/12/2017 9/13/2017\n",
       "9/5/2017  NA       NA       NA       NA       NA        NA        NA       \n",
       "9/6/2017  NA       NA       NA       NA       NA        NA        NA       \n",
       "9/7/2017  NA       NA       NA       NA       NA        NA        NA       \n",
       "9/8/2017  NA       NA       NA       NA       NA        NA        NA       \n",
       "9/11/2017 NA       NA       NA       NA       NA        NA        NA       \n",
       "9/12/2017 NA       NA       NA       NA       NA        NA        NA       \n",
       "          9/14/2017 9/15/2017 9/18/2017 ⋯ 8/20/2018 8/21/2018 8/22/2018\n",
       "9/5/2017  NA        NA        NA        ⋯ NA        NA        NA       \n",
       "9/6/2017  NA        NA        NA        ⋯ NA        NA        NA       \n",
       "9/7/2017  NA        NA        NA        ⋯ NA        NA        NA       \n",
       "9/8/2017  NA        NA        NA        ⋯ NA        NA        NA       \n",
       "9/11/2017 NA        NA        NA        ⋯ NA        NA        NA       \n",
       "9/12/2017 NA        NA        NA        ⋯ NA        NA        NA       \n",
       "          8/23/2018 8/24/2018 8/27/2018 8/28/2018 8/29/2018 8/30/2018 8/31/2018\n",
       "9/5/2017  NA        NA        NA        NA        NA        NA        NA       \n",
       "9/6/2017  NA        NA        NA        NA        NA        NA        NA       \n",
       "9/7/2017  NA        NA        NA        NA        NA        NA        NA       \n",
       "9/8/2017  NA        NA        NA        NA        NA        NA        NA       \n",
       "9/11/2017 NA        NA        NA        NA        NA        NA        NA       \n",
       "9/12/2017 NA        NA        NA        NA        NA        NA        NA       "
      ]
     },
     "metadata": {},
     "output_type": "display_data"
    }
   ],
   "source": [
    "#b. Create an empty matrix, populated with NAs,  of size n x n, where n is the\n",
    "# number of rows in the TSLA data set. \n",
    "#   Give the matrix both row and column names corresponding to the dates in the\n",
    "# Date column of the tsla.ret.df data frame.\n",
    "\n",
    "# Code:\n",
    "# tsla_matrix <- matrix(nrow = nrow(tsla.ret.df),\n",
    "#                       ncol = nrow(tsla.ret.df))\n",
    "\n",
    "# colnames(tsla_matrix) <- tsla.ret.df$Date\n",
    "# rownames(tsla_matrix) <- tsla.ret.df$Date\n",
    "\n",
    "# head(tsla_matrix)\n",
    "\n",
    "# Output:\n",
    "# \t9/5/2017\t9/6/2017\t9/7/2017\t9/8/2017\t9/11/2017\t9/12/2017\t9/13/2017\t9/14/2017\t9/15/2017\t9/18/2017\t⋯\t8/20/2018\t8/21/2018\t8/22/2018\t8/23/2018\t8/24/2018\t8/27/2018\t8/28/2018\t8/29/2018\t8/30/2018\t8/31/2018\n",
    "# 9/5/2017\tNA\tNA\tNA\tNA\tNA\tNA\tNA\tNA\tNA\tNA\t⋯\tNA\tNA\tNA\tNA\tNA\tNA\tNA\tNA\tNA\tNA\n",
    "# 9/6/2017\tNA\tNA\tNA\tNA\tNA\tNA\tNA\tNA\tNA\tNA\t⋯\tNA\tNA\tNA\tNA\tNA\tNA\tNA\tNA\tNA\tNA\n",
    "# 9/7/2017\tNA\tNA\tNA\tNA\tNA\tNA\tNA\tNA\tNA\tNA\t⋯\tNA\tNA\tNA\tNA\tNA\tNA\tNA\tNA\tNA\tNA\n",
    "# 9/8/2017\tNA\tNA\tNA\tNA\tNA\tNA\tNA\tNA\tNA\tNA\t⋯\tNA\tNA\tNA\tNA\tNA\tNA\tNA\tNA\tNA\tNA\n",
    "# 9/11/2017\tNA\tNA\tNA\tNA\tNA\tNA\tNA\tNA\tNA\tNA\t⋯\tNA\tNA\tNA\tNA\tNA\tNA\tNA\tNA\tNA\tNA\n",
    "# 9/12/2017\tNA\tNA\tNA\tNA\tNA\tNA\tNA\tNA\tNA\tNA\t⋯\tNA\tNA\tNA\tNA\n",
    "\n",
    "\n",
    "tsla_matrix <- matrix(nrow = nrow(tsla.ret.df),\n",
    "                      ncol = nrow(tsla.ret.df))\n",
    "\n",
    "colnames(tsla_matrix) <- tsla.ret.df$Date\n",
    "rownames(tsla_matrix) <- tsla.ret.df$Date\n",
    "\n",
    "head(tsla_matrix)"
   ]
  },
  {
   "cell_type": "code",
   "execution_count": 429,
   "metadata": {},
   "outputs": [
    {
     "data": {
      "text/html": [
       "<table>\n",
       "<thead><tr><th></th><th scope=col>9/5/2017</th><th scope=col>9/6/2017</th><th scope=col>9/7/2017</th><th scope=col>9/8/2017</th><th scope=col>9/11/2017</th><th scope=col>9/12/2017</th><th scope=col>9/13/2017</th><th scope=col>9/14/2017</th><th scope=col>9/15/2017</th><th scope=col>9/18/2017</th><th scope=col>⋯</th><th scope=col>8/20/2018</th><th scope=col>8/21/2018</th><th scope=col>8/22/2018</th><th scope=col>8/23/2018</th><th scope=col>8/24/2018</th><th scope=col>8/27/2018</th><th scope=col>8/28/2018</th><th scope=col>8/29/2018</th><th scope=col>8/30/2018</th><th scope=col>8/31/2018</th></tr></thead>\n",
       "<tbody>\n",
       "\t<tr><th scope=row>9/5/2017</th><td>0.1596899</td><td>0.1603923</td><td>0.1601521</td><td>0.1594271</td><td>0.1549664</td><td>0.1598593</td><td>0.1597524</td><td>0.1612476</td><td>0.1596347</td><td>0.1596913</td><td>⋯        </td><td>0.1595557</td><td>0.1603033</td><td>0.1596929</td><td>0.1596113</td><td>0.1593969</td><td>0.1613503</td><td>0.1599507</td><td>0.1618425</td><td>0.1595663</td><td>0.1596728</td></tr>\n",
       "\t<tr><th scope=row>9/6/2017</th><td>0.1603923</td><td>0.1613469</td><td>0.1618010</td><td>0.1610959</td><td>0.1566041</td><td>0.1615206</td><td>0.1614043</td><td>0.1628946</td><td>0.1612891</td><td>0.1613418</td><td>⋯        </td><td>0.1612084</td><td>0.1619476</td><td>0.1613494</td><td>0.1612692</td><td>0.1610536</td><td>0.1630266</td><td>0.1616245</td><td>0.1635263</td><td>0.1612234</td><td>0.1613322</td></tr>\n",
       "\t<tr><th scope=row>9/7/2017</th><td>0.1601521</td><td>0.1618010</td><td>0.1610960</td><td>0.1608418</td><td>0.1563555</td><td>0.1612630</td><td>0.1611569</td><td>0.1626581</td><td>0.1610381</td><td>0.1610944</td><td>⋯        </td><td>0.1609577</td><td>0.1617096</td><td>0.1611005</td><td>0.1610214</td><td>0.1607944</td><td>0.1627551</td><td>0.1613654</td><td>0.1632546</td><td>0.1609806</td><td>0.1610807</td></tr>\n",
       "\t<tr><th scope=row>9/8/2017</th><td>0.1594271</td><td>0.1610959</td><td>0.1608418</td><td>0.1603855</td><td>0.1556573</td><td>0.1605578</td><td>0.1604447</td><td>0.1619344</td><td>0.1603290</td><td>0.1603830</td><td>⋯        </td><td>0.1602492</td><td>0.1609907</td><td>0.1603879</td><td>0.1603068</td><td>0.1600934</td><td>0.1620561</td><td>0.1606563</td><td>0.1625524</td><td>0.1602602</td><td>0.1603697</td></tr>\n",
       "\t<tr><th scope=row>9/11/2017</th><td>0.1549664</td><td>0.1566041</td><td>0.1563555</td><td>0.1556573</td><td>0.1559044</td><td>0.1560658</td><td>0.1559602</td><td>0.1574391</td><td>0.1558422</td><td>0.1558946</td><td>⋯        </td><td>0.1557590</td><td>0.1564783</td><td>0.1559103</td><td>0.1558337</td><td>0.1555861</td><td>0.1575370</td><td>0.1561764</td><td>0.1580425</td><td>0.1557930</td><td>0.1558912</td></tr>\n",
       "\t<tr><th scope=row>9/12/2017</th><td>0.1598593</td><td>0.1615206</td><td>0.1612630</td><td>0.1605578</td><td>0.1560658</td><td>0.1608088</td><td>0.1608665</td><td>0.1623546</td><td>0.1607507</td><td>0.1608036</td><td>⋯        </td><td>0.1606699</td><td>0.1614067</td><td>0.1608120</td><td>0.1607324</td><td>0.1605126</td><td>0.1624790</td><td>0.1610839</td><td>0.1629780</td><td>0.1606881</td><td>0.1607942</td></tr>\n",
       "</tbody>\n",
       "</table>\n"
      ],
      "text/latex": [
       "\\begin{tabular}{r|lllllllllllllllllllllllllllllllllllllllllllllllllllllllllllllllllllllllllllllllllllllllllllllllllllllllllllllllllllllllllllllllllllllllllllllllllllllllllllllllllllllllllllllllllllllllllllllllllllllllllllllllllllllllllllllllllllllllllllllllllllllllllll}\n",
       "  & 9/5/2017 & 9/6/2017 & 9/7/2017 & 9/8/2017 & 9/11/2017 & 9/12/2017 & 9/13/2017 & 9/14/2017 & 9/15/2017 & 9/18/2017 & ⋯ & 8/20/2018 & 8/21/2018 & 8/22/2018 & 8/23/2018 & 8/24/2018 & 8/27/2018 & 8/28/2018 & 8/29/2018 & 8/30/2018 & 8/31/2018\\\\\n",
       "\\hline\n",
       "\t9/5/2017 & 0.1596899 & 0.1603923 & 0.1601521 & 0.1594271 & 0.1549664 & 0.1598593 & 0.1597524 & 0.1612476 & 0.1596347 & 0.1596913 & ⋯         & 0.1595557 & 0.1603033 & 0.1596929 & 0.1596113 & 0.1593969 & 0.1613503 & 0.1599507 & 0.1618425 & 0.1595663 & 0.1596728\\\\\n",
       "\t9/6/2017 & 0.1603923 & 0.1613469 & 0.1618010 & 0.1610959 & 0.1566041 & 0.1615206 & 0.1614043 & 0.1628946 & 0.1612891 & 0.1613418 & ⋯         & 0.1612084 & 0.1619476 & 0.1613494 & 0.1612692 & 0.1610536 & 0.1630266 & 0.1616245 & 0.1635263 & 0.1612234 & 0.1613322\\\\\n",
       "\t9/7/2017 & 0.1601521 & 0.1618010 & 0.1610960 & 0.1608418 & 0.1563555 & 0.1612630 & 0.1611569 & 0.1626581 & 0.1610381 & 0.1610944 & ⋯         & 0.1609577 & 0.1617096 & 0.1611005 & 0.1610214 & 0.1607944 & 0.1627551 & 0.1613654 & 0.1632546 & 0.1609806 & 0.1610807\\\\\n",
       "\t9/8/2017 & 0.1594271 & 0.1610959 & 0.1608418 & 0.1603855 & 0.1556573 & 0.1605578 & 0.1604447 & 0.1619344 & 0.1603290 & 0.1603830 & ⋯         & 0.1602492 & 0.1609907 & 0.1603879 & 0.1603068 & 0.1600934 & 0.1620561 & 0.1606563 & 0.1625524 & 0.1602602 & 0.1603697\\\\\n",
       "\t9/11/2017 & 0.1549664 & 0.1566041 & 0.1563555 & 0.1556573 & 0.1559044 & 0.1560658 & 0.1559602 & 0.1574391 & 0.1558422 & 0.1558946 & ⋯         & 0.1557590 & 0.1564783 & 0.1559103 & 0.1558337 & 0.1555861 & 0.1575370 & 0.1561764 & 0.1580425 & 0.1557930 & 0.1558912\\\\\n",
       "\t9/12/2017 & 0.1598593 & 0.1615206 & 0.1612630 & 0.1605578 & 0.1560658 & 0.1608088 & 0.1608665 & 0.1623546 & 0.1607507 & 0.1608036 & ⋯         & 0.1606699 & 0.1614067 & 0.1608120 & 0.1607324 & 0.1605126 & 0.1624790 & 0.1610839 & 0.1629780 & 0.1606881 & 0.1607942\\\\\n",
       "\\end{tabular}\n"
      ],
      "text/markdown": [
       "\n",
       "| <!--/--> | 9/5/2017 | 9/6/2017 | 9/7/2017 | 9/8/2017 | 9/11/2017 | 9/12/2017 | 9/13/2017 | 9/14/2017 | 9/15/2017 | 9/18/2017 | ⋯ | 8/20/2018 | 8/21/2018 | 8/22/2018 | 8/23/2018 | 8/24/2018 | 8/27/2018 | 8/28/2018 | 8/29/2018 | 8/30/2018 | 8/31/2018 | \n",
       "|---|---|---|---|---|---|\n",
       "| 9/5/2017 | 0.1596899 | 0.1603923 | 0.1601521 | 0.1594271 | 0.1549664 | 0.1598593 | 0.1597524 | 0.1612476 | 0.1596347 | 0.1596913 | ⋯         | 0.1595557 | 0.1603033 | 0.1596929 | 0.1596113 | 0.1593969 | 0.1613503 | 0.1599507 | 0.1618425 | 0.1595663 | 0.1596728 | \n",
       "| 9/6/2017 | 0.1603923 | 0.1613469 | 0.1618010 | 0.1610959 | 0.1566041 | 0.1615206 | 0.1614043 | 0.1628946 | 0.1612891 | 0.1613418 | ⋯         | 0.1612084 | 0.1619476 | 0.1613494 | 0.1612692 | 0.1610536 | 0.1630266 | 0.1616245 | 0.1635263 | 0.1612234 | 0.1613322 | \n",
       "| 9/7/2017 | 0.1601521 | 0.1618010 | 0.1610960 | 0.1608418 | 0.1563555 | 0.1612630 | 0.1611569 | 0.1626581 | 0.1610381 | 0.1610944 | ⋯         | 0.1609577 | 0.1617096 | 0.1611005 | 0.1610214 | 0.1607944 | 0.1627551 | 0.1613654 | 0.1632546 | 0.1609806 | 0.1610807 | \n",
       "| 9/8/2017 | 0.1594271 | 0.1610959 | 0.1608418 | 0.1603855 | 0.1556573 | 0.1605578 | 0.1604447 | 0.1619344 | 0.1603290 | 0.1603830 | ⋯         | 0.1602492 | 0.1609907 | 0.1603879 | 0.1603068 | 0.1600934 | 0.1620561 | 0.1606563 | 0.1625524 | 0.1602602 | 0.1603697 | \n",
       "| 9/11/2017 | 0.1549664 | 0.1566041 | 0.1563555 | 0.1556573 | 0.1559044 | 0.1560658 | 0.1559602 | 0.1574391 | 0.1558422 | 0.1558946 | ⋯         | 0.1557590 | 0.1564783 | 0.1559103 | 0.1558337 | 0.1555861 | 0.1575370 | 0.1561764 | 0.1580425 | 0.1557930 | 0.1558912 | \n",
       "| 9/12/2017 | 0.1598593 | 0.1615206 | 0.1612630 | 0.1605578 | 0.1560658 | 0.1608088 | 0.1608665 | 0.1623546 | 0.1607507 | 0.1608036 | ⋯         | 0.1606699 | 0.1614067 | 0.1608120 | 0.1607324 | 0.1605126 | 0.1624790 | 0.1610839 | 0.1629780 | 0.1606881 | 0.1607942 | \n",
       "\n",
       "\n"
      ],
      "text/plain": [
       "          9/5/2017  9/6/2017  9/7/2017  9/8/2017  9/11/2017 9/12/2017 9/13/2017\n",
       "9/5/2017  0.1596899 0.1603923 0.1601521 0.1594271 0.1549664 0.1598593 0.1597524\n",
       "9/6/2017  0.1603923 0.1613469 0.1618010 0.1610959 0.1566041 0.1615206 0.1614043\n",
       "9/7/2017  0.1601521 0.1618010 0.1610960 0.1608418 0.1563555 0.1612630 0.1611569\n",
       "9/8/2017  0.1594271 0.1610959 0.1608418 0.1603855 0.1556573 0.1605578 0.1604447\n",
       "9/11/2017 0.1549664 0.1566041 0.1563555 0.1556573 0.1559044 0.1560658 0.1559602\n",
       "9/12/2017 0.1598593 0.1615206 0.1612630 0.1605578 0.1560658 0.1608088 0.1608665\n",
       "          9/14/2017 9/15/2017 9/18/2017 ⋯ 8/20/2018 8/21/2018 8/22/2018\n",
       "9/5/2017  0.1612476 0.1596347 0.1596913 ⋯ 0.1595557 0.1603033 0.1596929\n",
       "9/6/2017  0.1628946 0.1612891 0.1613418 ⋯ 0.1612084 0.1619476 0.1613494\n",
       "9/7/2017  0.1626581 0.1610381 0.1610944 ⋯ 0.1609577 0.1617096 0.1611005\n",
       "9/8/2017  0.1619344 0.1603290 0.1603830 ⋯ 0.1602492 0.1609907 0.1603879\n",
       "9/11/2017 0.1574391 0.1558422 0.1558946 ⋯ 0.1557590 0.1564783 0.1559103\n",
       "9/12/2017 0.1623546 0.1607507 0.1608036 ⋯ 0.1606699 0.1614067 0.1608120\n",
       "          8/23/2018 8/24/2018 8/27/2018 8/28/2018 8/29/2018 8/30/2018 8/31/2018\n",
       "9/5/2017  0.1596113 0.1593969 0.1613503 0.1599507 0.1618425 0.1595663 0.1596728\n",
       "9/6/2017  0.1612692 0.1610536 0.1630266 0.1616245 0.1635263 0.1612234 0.1613322\n",
       "9/7/2017  0.1610214 0.1607944 0.1627551 0.1613654 0.1632546 0.1609806 0.1610807\n",
       "9/8/2017  0.1603068 0.1600934 0.1620561 0.1606563 0.1625524 0.1602602 0.1603697\n",
       "9/11/2017 0.1558337 0.1555861 0.1575370 0.1561764 0.1580425 0.1557930 0.1558912\n",
       "9/12/2017 0.1607324 0.1605126 0.1624790 0.1610839 0.1629780 0.1606881 0.1607942"
      ]
     },
     "metadata": {},
     "output_type": "display_data"
    }
   ],
   "source": [
    "#c. Remove every possible pair of points in turn from the dataset and rerun the\n",
    "# regression each time. \n",
    "#   Every time you rerun the regression\n",
    "#   save the new R-squared into the matrix you created in part b. Hint: the \n",
    "# subset command to lm will be useful here.\n",
    "\n",
    "# Code:\n",
    "# for (i in 1:nrow(tsla.ret.df)) { \n",
    "#     for (j in 1:nrow(tsla.ret.df)) { \n",
    "#         lm.out <- lm(formula = TSLA.Return ~ SP.Return,\n",
    "#                      data = tsla.ret.df,\n",
    "#                      subset = -c(i,j))\n",
    "#         r_squared <- summary(lm.out)$r.squared\n",
    "#         tsla_matrix[i,j] <- r_squared\n",
    "#   }\n",
    "# }\n",
    "# head(tsla_matrix)\n",
    "\n",
    "# Output:\n",
    "# \t9/5/2017\t9/6/2017\t9/7/2017\t9/8/2017\t9/11/2017\t9/12/2017\t9/13/2017\t9/14/2017\t9/15/2017\t9/18/2017\t⋯\t8/20/2018\t8/21/2018\t8/22/2018\t8/23/2018\t8/24/2018\t8/27/2018\t8/28/2018\t8/29/2018\t8/30/2018\t8/31/2018\n",
    "# 9/5/2017\t0.1596899\t0.1603923\t0.1601521\t0.1594271\t0.1549664\t0.1598593\t0.1597524\t0.1612476\t0.1596347\t0.1596913\t⋯\t0.1595557\t0.1603033\t0.1596929\t0.1596113\t0.1593969\t0.1613503\t0.1599507\t0.1618425\t0.1595663\t0.1596728\n",
    "# 9/6/2017\t0.1603923\t0.1613469\t0.1618010\t0.1610959\t0.1566041\t0.1615206\t0.1614043\t0.1628946\t0.1612891\t0.1613418\t⋯\t0.1612084\t0.1619476\t0.1613494\t0.1612692\t0.1610536\t0.1630266\t0.1616245\t0.1635263\t0.1612234\t0.1613322\n",
    "# 9/7/2017\t0.1601521\t0.1618010\t0.1610960\t0.1608418\t0.1563555\t0.1612630\t0.1611569\t0.1626581\t0.1610381\t0.1610944\t⋯\t0.1609577\t0.1617096\t0.1611005\t0.1610214\t0.1607944\t0.1627551\t0.1613654\t0.1632546\t0.1609806\t0.1610807\n",
    "# 9/8/2017\t0.1594271\t0.1610959\t0.1608418\t0.1603855\t0.1556573\t0.1605578\t0.1604447\t0.1619344\t0.1603290\t0.1603830\t⋯\t0.1602492\t0.1609907\t0.1603879\t0.1603068\t0.1600934\t0.1620561\t0.1606563\t0.1625524\t0.1602602\t0.1603697\n",
    "# 9/11/2017\t0.1549664\t0.1566041\t0.1563555\t0.1556573\t0.1559044\t0.1560658\t0.1559602\t0.1574391\t0.1558422\t0.1558946\t⋯\t0.1557590\t0.1564783\t0.1559103\t0.1558337\t0.1555861\t0.1575370\t0.1561764\t0.1580425\t0.1557930\t0.1558912\n",
    "# 9/12/2017\t0.1598593\t0.1615206\t0.1612630\t0.1605578\t0.1560658\t0.1608088\t0.1608665\t0.1623546\t0.1607507\t0.1608036\t⋯\t0.1606699\t0.1614067\t0.1608120\t0.1607324\t0.1605126\t0.1624790\n",
    "\n",
    "for (i in 1:nrow(tsla.ret.df)) { \n",
    "    for (j in 1:nrow(tsla.ret.df)) { \n",
    "        lm.out <- lm(formula = TSLA.Return ~ SP.Return,\n",
    "                     data = tsla.ret.df,\n",
    "                     subset = -c(i,j))\n",
    "        r_squared <- summary(lm.out)$r.squared\n",
    "        tsla_matrix[i,j] <- r_squared\n",
    "  }\n",
    "}\n",
    "\n",
    "head(tsla_matrix)"
   ]
  },
  {
   "cell_type": "code",
   "execution_count": 430,
   "metadata": {},
   "outputs": [
    {
     "data": {
      "text/html": [
       "<table>\n",
       "<thead><tr><th></th><th scope=col>9/5/2017</th><th scope=col>9/6/2017</th><th scope=col>9/7/2017</th><th scope=col>9/8/2017</th><th scope=col>9/11/2017</th><th scope=col>9/12/2017</th><th scope=col>9/13/2017</th><th scope=col>9/14/2017</th><th scope=col>9/15/2017</th><th scope=col>9/18/2017</th><th scope=col>⋯</th><th scope=col>8/20/2018</th><th scope=col>8/21/2018</th><th scope=col>8/22/2018</th><th scope=col>8/23/2018</th><th scope=col>8/24/2018</th><th scope=col>8/27/2018</th><th scope=col>8/28/2018</th><th scope=col>8/29/2018</th><th scope=col>8/30/2018</th><th scope=col>8/31/2018</th></tr></thead>\n",
       "<tbody>\n",
       "\t<tr><th scope=row>9/5/2017</th><td>0.0009490679 </td><td> 0.0002467479</td><td> 0.0004869167</td><td> 1.211918e-03</td><td>0.005672624  </td><td> 7.797314e-04</td><td> 0.0008866420</td><td>-0.0006086289</td><td> 0.0010043260</td><td> 0.0009477142</td><td>⋯            </td><td> 1.083347e-03</td><td> 0.0003356832</td><td> 0.0009460785</td><td> 1.027694e-03</td><td> 0.0012421551</td><td>-0.0007113113</td><td> 6.882926e-04</td><td>-0.001203506 </td><td> 1.072716e-03</td><td> 0.0009661781</td></tr>\n",
       "\t<tr><th scope=row>9/6/2017</th><td>0.0002467479 </td><td>-0.0007078651</td><td>-0.0011619483</td><td>-4.568471e-04</td><td>0.004034947  </td><td>-8.815549e-04</td><td>-0.0007653127</td><td>-0.0022556157</td><td>-0.0006501294</td><td>-0.0007027451</td><td>⋯            </td><td>-5.694318e-04</td><td>-0.0013085853</td><td>-0.0007104305</td><td>-6.301435e-04</td><td>-0.0004146383</td><td>-0.0023875923</td><td>-9.854814e-04</td><td>-0.002887268 </td><td>-5.843598e-04</td><td>-0.0006931929</td></tr>\n",
       "\t<tr><th scope=row>9/7/2017</th><td>0.0004869167 </td><td>-0.0011619483</td><td>-0.0004570054</td><td>-2.027670e-04</td><td>0.004283534  </td><td>-6.239656e-04</td><td>-0.0005179054</td><td>-0.0020191059</td><td>-0.0003990751</td><td>-0.0004554371</td><td>⋯            </td><td>-3.186548e-04</td><td>-0.0010706221</td><td>-0.0004615344</td><td>-3.824216e-04</td><td>-0.0001553506</td><td>-0.0021161304</td><td>-7.263929e-04</td><td>-0.002615582 </td><td>-3.416046e-04</td><td>-0.0004416534</td></tr>\n",
       "\t<tr><th scope=row>9/8/2017</th><td>0.0012119176 </td><td>-0.0004568471</td><td>-0.0002027670</td><td> 2.535490e-04</td><td>0.004981748  </td><td> 8.124822e-05</td><td> 0.0001942639</td><td>-0.0012954249</td><td> 0.0003100005</td><td> 0.0002560014</td><td>⋯            </td><td> 3.898354e-04</td><td>-0.0003517259</td><td> 0.0002511262</td><td> 3.322326e-04</td><td> 0.0005456436</td><td>-0.0014171059</td><td>-1.727889e-05</td><td>-0.001913390 </td><td> 3.788422e-04</td><td> 0.0002692652</td></tr>\n",
       "\t<tr><th scope=row>9/11/2017</th><td>0.0056726236 </td><td> 0.0040349474</td><td> 0.0042835341</td><td> 4.981748e-03</td><td>0.004734640  </td><td> 4.573201e-03</td><td> 0.0046788091</td><td> 0.0031998750</td><td> 0.0047968367</td><td> 0.0047444356</td><td>⋯            </td><td> 4.879990e-03</td><td> 0.0041607048</td><td> 0.0047287583</td><td> 4.805270e-03</td><td> 0.0050529454</td><td> 0.0031019894</td><td> 4.462570e-03</td><td> 0.002596529 </td><td> 4.845991e-03</td><td> 0.0047477727</td></tr>\n",
       "\t<tr><th scope=row>9/12/2017</th><td>0.0007797314 </td><td>-0.0008815549</td><td>-0.0006239656</td><td> 8.124822e-05</td><td>0.004573201  </td><td>-1.697791e-04</td><td>-0.0002274521</td><td>-0.0017156393</td><td>-0.0001116628</td><td>-0.0001646364</td><td>⋯            </td><td>-3.086356e-05</td><td>-0.0007677280</td><td>-0.0001729669</td><td>-9.336317e-05</td><td> 0.0001264134</td><td>-0.0018400069</td><td>-4.448539e-04</td><td>-0.002338971 </td><td>-4.909543e-05</td><td>-0.0001551575</td></tr>\n",
       "</tbody>\n",
       "</table>\n"
      ],
      "text/latex": [
       "\\begin{tabular}{r|lllllllllllllllllllllllllllllllllllllllllllllllllllllllllllllllllllllllllllllllllllllllllllllllllllllllllllllllllllllllllllllllllllllllllllllllllllllllllllllllllllllllllllllllllllllllllllllllllllllllllllllllllllllllllllllllllllllllllllllllllllllllllll}\n",
       "  & 9/5/2017 & 9/6/2017 & 9/7/2017 & 9/8/2017 & 9/11/2017 & 9/12/2017 & 9/13/2017 & 9/14/2017 & 9/15/2017 & 9/18/2017 & ⋯ & 8/20/2018 & 8/21/2018 & 8/22/2018 & 8/23/2018 & 8/24/2018 & 8/27/2018 & 8/28/2018 & 8/29/2018 & 8/30/2018 & 8/31/2018\\\\\n",
       "\\hline\n",
       "\t9/5/2017 & 0.0009490679  &  0.0002467479 &  0.0004869167 &  1.211918e-03 & 0.005672624   &  7.797314e-04 &  0.0008866420 & -0.0006086289 &  0.0010043260 &  0.0009477142 & ⋯             &  1.083347e-03 &  0.0003356832 &  0.0009460785 &  1.027694e-03 &  0.0012421551 & -0.0007113113 &  6.882926e-04 & -0.001203506  &  1.072716e-03 &  0.0009661781\\\\\n",
       "\t9/6/2017 & 0.0002467479  & -0.0007078651 & -0.0011619483 & -4.568471e-04 & 0.004034947   & -8.815549e-04 & -0.0007653127 & -0.0022556157 & -0.0006501294 & -0.0007027451 & ⋯             & -5.694318e-04 & -0.0013085853 & -0.0007104305 & -6.301435e-04 & -0.0004146383 & -0.0023875923 & -9.854814e-04 & -0.002887268  & -5.843598e-04 & -0.0006931929\\\\\n",
       "\t9/7/2017 & 0.0004869167  & -0.0011619483 & -0.0004570054 & -2.027670e-04 & 0.004283534   & -6.239656e-04 & -0.0005179054 & -0.0020191059 & -0.0003990751 & -0.0004554371 & ⋯             & -3.186548e-04 & -0.0010706221 & -0.0004615344 & -3.824216e-04 & -0.0001553506 & -0.0021161304 & -7.263929e-04 & -0.002615582  & -3.416046e-04 & -0.0004416534\\\\\n",
       "\t9/8/2017 & 0.0012119176  & -0.0004568471 & -0.0002027670 &  2.535490e-04 & 0.004981748   &  8.124822e-05 &  0.0001942639 & -0.0012954249 &  0.0003100005 &  0.0002560014 & ⋯             &  3.898354e-04 & -0.0003517259 &  0.0002511262 &  3.322326e-04 &  0.0005456436 & -0.0014171059 & -1.727889e-05 & -0.001913390  &  3.788422e-04 &  0.0002692652\\\\\n",
       "\t9/11/2017 & 0.0056726236  &  0.0040349474 &  0.0042835341 &  4.981748e-03 & 0.004734640   &  4.573201e-03 &  0.0046788091 &  0.0031998750 &  0.0047968367 &  0.0047444356 & ⋯             &  4.879990e-03 &  0.0041607048 &  0.0047287583 &  4.805270e-03 &  0.0050529454 &  0.0031019894 &  4.462570e-03 &  0.002596529  &  4.845991e-03 &  0.0047477727\\\\\n",
       "\t9/12/2017 & 0.0007797314  & -0.0008815549 & -0.0006239656 &  8.124822e-05 & 0.004573201   & -1.697791e-04 & -0.0002274521 & -0.0017156393 & -0.0001116628 & -0.0001646364 & ⋯             & -3.086356e-05 & -0.0007677280 & -0.0001729669 & -9.336317e-05 &  0.0001264134 & -0.0018400069 & -4.448539e-04 & -0.002338971  & -4.909543e-05 & -0.0001551575\\\\\n",
       "\\end{tabular}\n"
      ],
      "text/markdown": [
       "\n",
       "| <!--/--> | 9/5/2017 | 9/6/2017 | 9/7/2017 | 9/8/2017 | 9/11/2017 | 9/12/2017 | 9/13/2017 | 9/14/2017 | 9/15/2017 | 9/18/2017 | ⋯ | 8/20/2018 | 8/21/2018 | 8/22/2018 | 8/23/2018 | 8/24/2018 | 8/27/2018 | 8/28/2018 | 8/29/2018 | 8/30/2018 | 8/31/2018 | \n",
       "|---|---|---|---|---|---|\n",
       "| 9/5/2017 | 0.0009490679  |  0.0002467479 |  0.0004869167 |  1.211918e-03 | 0.005672624   |  7.797314e-04 |  0.0008866420 | -0.0006086289 |  0.0010043260 |  0.0009477142 | ⋯             |  1.083347e-03 |  0.0003356832 |  0.0009460785 |  1.027694e-03 |  0.0012421551 | -0.0007113113 |  6.882926e-04 | -0.001203506  |  1.072716e-03 |  0.0009661781 | \n",
       "| 9/6/2017 | 0.0002467479  | -0.0007078651 | -0.0011619483 | -4.568471e-04 | 0.004034947   | -8.815549e-04 | -0.0007653127 | -0.0022556157 | -0.0006501294 | -0.0007027451 | ⋯             | -5.694318e-04 | -0.0013085853 | -0.0007104305 | -6.301435e-04 | -0.0004146383 | -0.0023875923 | -9.854814e-04 | -0.002887268  | -5.843598e-04 | -0.0006931929 | \n",
       "| 9/7/2017 | 0.0004869167  | -0.0011619483 | -0.0004570054 | -2.027670e-04 | 0.004283534   | -6.239656e-04 | -0.0005179054 | -0.0020191059 | -0.0003990751 | -0.0004554371 | ⋯             | -3.186548e-04 | -0.0010706221 | -0.0004615344 | -3.824216e-04 | -0.0001553506 | -0.0021161304 | -7.263929e-04 | -0.002615582  | -3.416046e-04 | -0.0004416534 | \n",
       "| 9/8/2017 | 0.0012119176  | -0.0004568471 | -0.0002027670 |  2.535490e-04 | 0.004981748   |  8.124822e-05 |  0.0001942639 | -0.0012954249 |  0.0003100005 |  0.0002560014 | ⋯             |  3.898354e-04 | -0.0003517259 |  0.0002511262 |  3.322326e-04 |  0.0005456436 | -0.0014171059 | -1.727889e-05 | -0.001913390  |  3.788422e-04 |  0.0002692652 | \n",
       "| 9/11/2017 | 0.0056726236  |  0.0040349474 |  0.0042835341 |  4.981748e-03 | 0.004734640   |  4.573201e-03 |  0.0046788091 |  0.0031998750 |  0.0047968367 |  0.0047444356 | ⋯             |  4.879990e-03 |  0.0041607048 |  0.0047287583 |  4.805270e-03 |  0.0050529454 |  0.0031019894 |  4.462570e-03 |  0.002596529  |  4.845991e-03 |  0.0047477727 | \n",
       "| 9/12/2017 | 0.0007797314  | -0.0008815549 | -0.0006239656 |  8.124822e-05 | 0.004573201   | -1.697791e-04 | -0.0002274521 | -0.0017156393 | -0.0001116628 | -0.0001646364 | ⋯             | -3.086356e-05 | -0.0007677280 | -0.0001729669 | -9.336317e-05 |  0.0001264134 | -0.0018400069 | -4.448539e-04 | -0.002338971  | -4.909543e-05 | -0.0001551575 | \n",
       "\n",
       "\n"
      ],
      "text/plain": [
       "          9/5/2017     9/6/2017      9/7/2017      9/8/2017      9/11/2017  \n",
       "9/5/2017  0.0009490679  0.0002467479  0.0004869167  1.211918e-03 0.005672624\n",
       "9/6/2017  0.0002467479 -0.0007078651 -0.0011619483 -4.568471e-04 0.004034947\n",
       "9/7/2017  0.0004869167 -0.0011619483 -0.0004570054 -2.027670e-04 0.004283534\n",
       "9/8/2017  0.0012119176 -0.0004568471 -0.0002027670  2.535490e-04 0.004981748\n",
       "9/11/2017 0.0056726236  0.0040349474  0.0042835341  4.981748e-03 0.004734640\n",
       "9/12/2017 0.0007797314 -0.0008815549 -0.0006239656  8.124822e-05 0.004573201\n",
       "          9/12/2017     9/13/2017     9/14/2017     9/15/2017     9/18/2017    \n",
       "9/5/2017   7.797314e-04  0.0008866420 -0.0006086289  0.0010043260  0.0009477142\n",
       "9/6/2017  -8.815549e-04 -0.0007653127 -0.0022556157 -0.0006501294 -0.0007027451\n",
       "9/7/2017  -6.239656e-04 -0.0005179054 -0.0020191059 -0.0003990751 -0.0004554371\n",
       "9/8/2017   8.124822e-05  0.0001942639 -0.0012954249  0.0003100005  0.0002560014\n",
       "9/11/2017  4.573201e-03  0.0046788091  0.0031998750  0.0047968367  0.0047444356\n",
       "9/12/2017 -1.697791e-04 -0.0002274521 -0.0017156393 -0.0001116628 -0.0001646364\n",
       "          ⋯ 8/20/2018     8/21/2018     8/22/2018     8/23/2018    \n",
       "9/5/2017  ⋯  1.083347e-03  0.0003356832  0.0009460785  1.027694e-03\n",
       "9/6/2017  ⋯ -5.694318e-04 -0.0013085853 -0.0007104305 -6.301435e-04\n",
       "9/7/2017  ⋯ -3.186548e-04 -0.0010706221 -0.0004615344 -3.824216e-04\n",
       "9/8/2017  ⋯  3.898354e-04 -0.0003517259  0.0002511262  3.322326e-04\n",
       "9/11/2017 ⋯  4.879990e-03  0.0041607048  0.0047287583  4.805270e-03\n",
       "9/12/2017 ⋯ -3.086356e-05 -0.0007677280 -0.0001729669 -9.336317e-05\n",
       "          8/24/2018     8/27/2018     8/28/2018     8/29/2018    8/30/2018    \n",
       "9/5/2017   0.0012421551 -0.0007113113  6.882926e-04 -0.001203506  1.072716e-03\n",
       "9/6/2017  -0.0004146383 -0.0023875923 -9.854814e-04 -0.002887268 -5.843598e-04\n",
       "9/7/2017  -0.0001553506 -0.0021161304 -7.263929e-04 -0.002615582 -3.416046e-04\n",
       "9/8/2017   0.0005456436 -0.0014171059 -1.727889e-05 -0.001913390  3.788422e-04\n",
       "9/11/2017  0.0050529454  0.0031019894  4.462570e-03  0.002596529  4.845991e-03\n",
       "9/12/2017  0.0001264134 -0.0018400069 -4.448539e-04 -0.002338971 -4.909543e-05\n",
       "          8/31/2018    \n",
       "9/5/2017   0.0009661781\n",
       "9/6/2017  -0.0006931929\n",
       "9/7/2017  -0.0004416534\n",
       "9/8/2017   0.0002692652\n",
       "9/11/2017  0.0047477727\n",
       "9/12/2017 -0.0001551575"
      ]
     },
     "metadata": {},
     "output_type": "display_data"
    }
   ],
   "source": [
    "#d. Create a new matrix which calculates the difference between the R-squared \n",
    "# you calculated in part a, and the\n",
    "#   matrix in part c. Call this matrix \"diff.rsquared\".  \n",
    "\n",
    "# Code:\n",
    "# diff.rsquared <- reg.summary$r.squared - tsla_matrix\n",
    "\n",
    "# head(diff.rsquared)\n",
    "\n",
    "# Output:\n",
    "# 9/5/2017\t9/6/2017\t9/7/2017\t9/8/2017\t9/11/2017\t9/12/2017\t9/13/2017\t9/14/2017\t9/15/2017\t9/18/2017\t⋯\t8/20/2018\t8/21/2018\t8/22/2018\t8/23/2018\t8/24/2018\t8/27/2018\t8/28/2018\t8/29/2018\t8/30/2018\t8/31/2018\n",
    "# 9/5/2017\t0.0009490679\t0.0002467479\t0.0004869167\t1.211918e-03\t0.005672624\t7.797314e-04\t0.0008866420\t-0.0006086289\t0.0010043260\t0.0009477142\t⋯\t1.083347e-03\t0.0003356832\t0.0009460785\t1.027694e-03\t0.0012421551\t-0.0007113113\t6.882926e-04\t-0.001203506\t1.072716e-03\t0.0009661781\n",
    "# 9/6/2017\t0.0002467479\t-0.0007078651\t-0.0011619483\t-4.568471e-04\t0.004034947\t-8.815549e-04\t-0.0007653127\t-0.0022556157\t-0.0006501294\t-0.0007027451\t⋯\t-5.694318e-04\t-0.0013085853\t-0.0007104305\t-6.301435e-04\t-0.0004146383\t-0.0023875923\t-9.854814e-04\t-0.002887268\t-5.843598e-04\t-0.0006931929\n",
    "# 9/7/2017\t0.0004869167\t-0.0011619483\t-0.0004570054\t-2.027670e-04\t0.004283534\t-6.239656e-04\t-0.0005179054\t-0.0020191059\t-0.0003990751\t-0.0004554371\t⋯\t-3.186548e-04\t-0.0010706221\t-0.0004615344\t-3.824216e-04\t-0.0001553506\t-0.0021161304\t-7.263929e-04\t-0.002615582\t-3.416046e-04\t-0.0004416534\n",
    "# 9/8/2017\t0.0012119176\t-0.0004568471\t-0.0002027670\t2.535490e-04\t0.004981748\t8.124822e-05\t0.0001942639\t-0.0012954249\t0.0003100005\t0.0002560014\t⋯\t3.898354e-04\t-0.0003517259\t0.0002511262\t3.322326e-04\t0.0005456436\t-0.0014171059\t-1.727889e-05\t-0.001913390\t3.788422e-04\t0.0002692652\n",
    "# 9/11/2017\t0.0056726236\t0.0040349474\t0.0042835341\t4.981748e-03\t0.004734640\t4.573201e-03\t0.0046788091\t0.0031998750\t0.0047968367\t0.0047444356\t⋯\t4.879990e-03\t0.0041607048\t0.0047287583\t4.805270e-03\t0.0050529454\t0.0031019894\t4.462570e-03\t0.002596529\t4.845991e-03\t0.0047477727\n",
    "# 9/12/2017\t0.0007797314\t-0.0008815549\t-0.0006239656\t8.124822e-05\t0.004573201\t-1.697791e-04\t-0.0002274521\t-0.0017156393\t-0.0001116628\t-0.0001646364\t\n",
    "\n",
    "diff.rsquared <- reg.summary$r.squared - tsla_matrix\n",
    "\n",
    "head(diff.rsquared)"
   ]
  },
  {
   "cell_type": "code",
   "execution_count": 431,
   "metadata": {},
   "outputs": [
    {
     "data": {
      "text/html": [
       "<table>\n",
       "<thead><tr><th></th><th scope=col>row</th><th scope=col>col</th></tr></thead>\n",
       "<tbody>\n",
       "\t<tr><th scope=row>3/27/2018</th><td>141</td><td>109</td></tr>\n",
       "\t<tr><th scope=row>2/8/2018</th><td>109</td><td>141</td></tr>\n",
       "</tbody>\n",
       "</table>\n"
      ],
      "text/latex": [
       "\\begin{tabular}{r|ll}\n",
       "  & row & col\\\\\n",
       "\\hline\n",
       "\t3/27/2018 & 141 & 109\\\\\n",
       "\t2/8/2018 & 109 & 141\\\\\n",
       "\\end{tabular}\n"
      ],
      "text/markdown": [
       "\n",
       "| <!--/--> | row | col | \n",
       "|---|---|\n",
       "| 3/27/2018 | 141 | 109 | \n",
       "| 2/8/2018 | 109 | 141 | \n",
       "\n",
       "\n"
      ],
      "text/plain": [
       "          row col\n",
       "3/27/2018 141 109\n",
       "2/8/2018  109 141"
      ]
     },
     "metadata": {},
     "output_type": "display_data"
    }
   ],
   "source": [
    "#e. Which pair of data points' removal makes R-squared decrease the most from \n",
    "# the baseline in part a? \n",
    "#   Using the \"arr.ind = TRUE, useNames = TRUE\" arguments to the \"which\" \n",
    "# function is one approach to this question.\n",
    "#   Don't be surprised if the biggest drop in R-squared isn't that much!\n",
    "\n",
    "# Code:\n",
    "# which(diff.rsquared == max(abs(diff.rsquared)), arr.ind = TRUE, useNames = TRUE)\n",
    "\n",
    "# Output:\n",
    "# row\tcol\n",
    "# 3/27/2018\t141\t109\n",
    "# 2/8/2018\t109\t141\n",
    "\n",
    "\n",
    "# Answer:\n",
    "# The pair of points 3/27/2018 and 2/8/2018 removal makes R-square decrease the\n",
    "# most\n",
    "\n",
    "which(diff.rsquared == max(abs(diff.rsquared)), \n",
    "      arr.ind = TRUE,\n",
    "      useNames = TRUE)\n",
    "\n"
   ]
  }
 ],
 "metadata": {
  "kernelspec": {
   "display_name": "R",
   "language": "R",
   "name": "ir"
  },
  "language_info": {
   "codemirror_mode": "r",
   "file_extension": ".r",
   "mimetype": "text/x-r-source",
   "name": "R",
   "pygments_lexer": "r",
   "version": "3.5.1"
  },
  "toc": {
   "nav_menu": {},
   "number_sections": true,
   "sideBar": true,
   "skip_h1_title": false,
   "toc_cell": false,
   "toc_position": {},
   "toc_section_display": "block",
   "toc_window_display": false
  }
 },
 "nbformat": 4,
 "nbformat_minor": 2
}
