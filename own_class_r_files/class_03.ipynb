{
 "cells": [
  {
   "cell_type": "code",
   "execution_count": 6,
   "metadata": {},
   "outputs": [
    {
     "data": {
      "text/plain": [
       "    Numbers          Gender   Logicals      \n",
       " Min.   : 5.200   Female:2   Mode :logical  \n",
       " 1st Qu.: 7.000   Male  :2   FALSE:2        \n",
       " Median : 9.800              TRUE :2        \n",
       " Mean   : 9.975                             \n",
       " 3rd Qu.:12.775                             \n",
       " Max.   :15.100                             "
      ]
     },
     "metadata": {},
     "output_type": "display_data"
    }
   ],
   "source": [
    "## ------------------------------------------------------------------------\n",
    "my.vec1 <- c(5.2, 7.6, 15.1,12)  # A vector of  numerics \n",
    "my.vec2 <- c(\"Male\",\"Male\",\"Female\",\"Female\") # A vector of  characters \n",
    "my.vec3 <- c(TRUE, FALSE,TRUE,FALSE) # A vector of logicals\n",
    "\n",
    "my.df      <- data.frame(\n",
    "    Numbers = my.vec1,\n",
    "    Gender = my.vec2,\n",
    "\tLogicals = my.vec3\n",
    "\t)\n",
    "summary(my.df) #The summary function describes each variable"
   ]
  },
  {
   "cell_type": "code",
   "execution_count": 3,
   "metadata": {},
   "outputs": [
    {
     "data": {
      "text/html": [
       "<table>\n",
       "<thead><tr><th scope=col>Numbers</th><th scope=col>Gender</th><th scope=col>Logicals</th></tr></thead>\n",
       "<tbody>\n",
       "\t<tr><td> 5.2  </td><td>Male  </td><td> TRUE </td></tr>\n",
       "\t<tr><td> 7.6  </td><td>Male  </td><td>FALSE </td></tr>\n",
       "\t<tr><td>15.1  </td><td>Female</td><td> TRUE </td></tr>\n",
       "\t<tr><td>12.0  </td><td>Female</td><td>FALSE </td></tr>\n",
       "</tbody>\n",
       "</table>\n"
      ],
      "text/latex": [
       "\\begin{tabular}{r|lll}\n",
       " Numbers & Gender & Logicals\\\\\n",
       "\\hline\n",
       "\t  5.2   & Male   &  TRUE \\\\\n",
       "\t  7.6   & Male   & FALSE \\\\\n",
       "\t 15.1   & Female &  TRUE \\\\\n",
       "\t 12.0   & Female & FALSE \\\\\n",
       "\\end{tabular}\n"
      ],
      "text/markdown": [
       "\n",
       "Numbers | Gender | Logicals | \n",
       "|---|---|---|---|\n",
       "|  5.2   | Male   |  TRUE  | \n",
       "|  7.6   | Male   | FALSE  | \n",
       "| 15.1   | Female |  TRUE  | \n",
       "| 12.0   | Female | FALSE  | \n",
       "\n",
       "\n"
      ],
      "text/plain": [
       "  Numbers Gender Logicals\n",
       "1  5.2    Male    TRUE   \n",
       "2  7.6    Male   FALSE   \n",
       "3 15.1    Female  TRUE   \n",
       "4 12.0    Female FALSE   "
      ]
     },
     "metadata": {},
     "output_type": "display_data"
    }
   ],
   "source": [
    "my.df"
   ]
  },
  {
   "cell_type": "code",
   "execution_count": 4,
   "metadata": {},
   "outputs": [
    {
     "data": {
      "text/html": [
       "'factor'"
      ],
      "text/latex": [
       "'factor'"
      ],
      "text/markdown": [
       "'factor'"
      ],
      "text/plain": [
       "[1] \"factor\""
      ]
     },
     "metadata": {},
     "output_type": "display_data"
    }
   ],
   "source": [
    "## ------------------------------------------------------------------------\n",
    "#### Extract the Gender column and look at its type \n",
    "class(my.df$Gender) "
   ]
  }
 ],
 "metadata": {
  "kernelspec": {
   "display_name": "R",
   "language": "R",
   "name": "ir"
  },
  "language_info": {
   "codemirror_mode": "r",
   "file_extension": ".r",
   "mimetype": "text/x-r-source",
   "name": "R",
   "pygments_lexer": "r",
   "version": "3.5.1"
  },
  "toc": {
   "nav_menu": {},
   "number_sections": true,
   "sideBar": true,
   "skip_h1_title": false,
   "toc_cell": false,
   "toc_position": {},
   "toc_section_display": "block",
   "toc_window_display": false
  }
 },
 "nbformat": 4,
 "nbformat_minor": 2
}
